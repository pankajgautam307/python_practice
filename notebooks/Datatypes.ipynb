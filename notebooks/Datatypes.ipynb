{
 "cells": [
  {
   "cell_type": "markdown",
   "metadata": {},
   "source": [
    "Python Built-in Data Types: \n",
    "\n",
    "Python provides several built-in data types, which can be classified into different categories. Some of the most commonly used ones include:"
   ]
  },
  {
   "cell_type": "markdown",
   "metadata": {},
   "source": [
    "\n",
    "\n",
    "1. Number Data Type\n",
    "\n",
    "Python provides several built-in numeric data types that are used to represent different types of numbers. The three main numeric data types in Python are:\n",
    "\n",
    "a) Integer (int)\n",
    "\n",
    "b) Floating-point (float)\n",
    "\n",
    "c) Complex (complex)\n",
    "\n",
    "Each of these types serves a different purpose, and Python provides various operations and functions to work with them."
   ]
  },
  {
   "cell_type": "code",
   "execution_count": 226,
   "metadata": {},
   "outputs": [
    {
     "name": "stdout",
     "output_type": "stream",
     "text": [
      "<class 'int'>\n",
      "<class 'float'>\n",
      "<class 'complex'>\n"
     ]
    }
   ],
   "source": [
    "# Integer (int)\n",
    "x = 10  \n",
    "print(type(x))  # Output: <class 'int'>\n",
    "\n",
    "# Float (float)\n",
    "y = 10.5  \n",
    "print(type(y))  # Output: <class 'float'>\n",
    "\n",
    "# Complex (complex)\n",
    "z = 3 + 4j  \n",
    "print(type(z))  # Output: <class 'complex'>"
   ]
  },
  {
   "cell_type": "markdown",
   "metadata": {},
   "source": [
    "a) Integer (int)\n",
    "\n",
    "Definition:\n",
    "\n",
    "An integer is a whole number that can be positive, negative, or zero. It does not have a fractional (decimal) part."
   ]
  },
  {
   "cell_type": "markdown",
   "metadata": {},
   "source": [
    "Example:"
   ]
  },
  {
   "cell_type": "code",
   "execution_count": 227,
   "metadata": {},
   "outputs": [
    {
     "name": "stdout",
     "output_type": "stream",
     "text": [
      "<class 'int'>\n",
      "<class 'int'>\n",
      "<class 'int'>\n"
     ]
    }
   ],
   "source": [
    "x = 10      # Positive integer\n",
    "y = -5      # Negative integer\n",
    "z = 0       # Zero\n",
    "\n",
    "print(type(x))  # Output: <class 'int'>\n",
    "print(type(y))  # Output: <class 'int'>\n",
    "print(type(z))  # Output: <class 'int'>"
   ]
  },
  {
   "cell_type": "markdown",
   "metadata": {},
   "source": [
    "Characteristics:\n",
    "\n",
    "Can be of arbitrary length (limited by system memory).\n",
    "\n",
    "Supports basic arithmetic operations: +, -, *, /, //, %, **.\n",
    "\n",
    "Can be converted to other types (float, complex, str, etc.)."
   ]
  },
  {
   "cell_type": "markdown",
   "metadata": {},
   "source": [
    "Operations with Integers:\n"
   ]
  },
  {
   "cell_type": "code",
   "execution_count": 228,
   "metadata": {},
   "outputs": [
    {
     "name": "stdout",
     "output_type": "stream",
     "text": [
      "13\n",
      "7\n",
      "30\n",
      "3.3333333333333335\n",
      "3\n",
      "1\n",
      "1000\n"
     ]
    }
   ],
   "source": [
    "a = 10\n",
    "b = 3\n",
    "\n",
    "print(a + b)   # Addition: 13\n",
    "print(a - b)   # Subtraction: 7\n",
    "print(a * b)   # Multiplication: 30\n",
    "print(a / b)   # Division (float result): 3.3333\n",
    "print(a // b)  # Floor Division (integer result): 3\n",
    "print(a % b)   # Modulus (remainder): 1\n",
    "print(a ** b)  # Exponentiation (power): 1000"
   ]
  },
  {
   "cell_type": "markdown",
   "metadata": {},
   "source": [
    "b) Floating-Point (float)\n",
    "\n",
    "Definition:\n",
    "\n",
    "A floating-point number (or float) is a number that has a decimal or fractional part. It is used to represent real numbers."
   ]
  },
  {
   "cell_type": "markdown",
   "metadata": {},
   "source": [
    "Example:"
   ]
  },
  {
   "cell_type": "code",
   "execution_count": 229,
   "metadata": {},
   "outputs": [
    {
     "name": "stdout",
     "output_type": "stream",
     "text": [
      "<class 'float'>\n",
      "<class 'float'>\n",
      "<class 'float'>\n"
     ]
    }
   ],
   "source": [
    "x = 10.5   # Positive float\n",
    "y = -3.14  # Negative float\n",
    "z = 0.0    # Zero as a float\n",
    "\n",
    "print(type(x))  # Output: <class 'float'>\n",
    "print(type(y))  # Output: <class 'float'>\n",
    "print(type(z))  # Output: <class 'float'>"
   ]
  },
  {
   "cell_type": "markdown",
   "metadata": {},
   "source": [
    "Characteristics:\n",
    "\n",
    "Supports decimal numbers.\n",
    "\n",
    "Uses double-precision floating point representation (IEEE 754 standard).\n",
    "\n",
    "Can be represented in scientific notation (e or E).\n",
    "\n",
    "Operations are similar to integers."
   ]
  },
  {
   "cell_type": "markdown",
   "metadata": {},
   "source": [
    "Scientific Notation Example:"
   ]
  },
  {
   "cell_type": "code",
   "execution_count": 230,
   "metadata": {},
   "outputs": [
    {
     "name": "stdout",
     "output_type": "stream",
     "text": [
      "3500.0\n",
      "0.012\n"
     ]
    }
   ],
   "source": [
    "a = 3.5e3  # 3.5 * 10^3 = 3500.0\n",
    "b = 1.2E-2 # 1.2 * 10^-2 = 0.012\n",
    "\n",
    "print(a)  # Output: 3500.0\n",
    "print(b)  # Output: 0.012"
   ]
  },
  {
   "cell_type": "markdown",
   "metadata": {},
   "source": [
    "Operations with Floats:"
   ]
  },
  {
   "cell_type": "code",
   "execution_count": 231,
   "metadata": {},
   "outputs": [
    {
     "name": "stdout",
     "output_type": "stream",
     "text": [
      "7.5\n",
      "3.5\n",
      "11.0\n",
      "2.75\n",
      "2.0\n",
      "1.5\n",
      "30.25\n"
     ]
    }
   ],
   "source": [
    "a = 5.5\n",
    "b = 2.0\n",
    "\n",
    "print(a + b)   # 7.5\n",
    "print(a - b)   # 3.5\n",
    "print(a * b)   # 11.0\n",
    "print(a / b)   # 2.75\n",
    "print(a // b)  # 2.0 (Floor Division)\n",
    "print(a % b)   # 1.5 (Modulus)\n",
    "print(a ** b)  # 30.25 (Exponentiation)"
   ]
  },
  {
   "cell_type": "markdown",
   "metadata": {},
   "source": [
    "Rounding and Precision Handling:"
   ]
  },
  {
   "cell_type": "code",
   "execution_count": 232,
   "metadata": {},
   "outputs": [
    {
     "name": "stdout",
     "output_type": "stream",
     "text": [
      "3.14\n"
     ]
    }
   ],
   "source": [
    "x = 3.14159\n",
    "print(round(x,2))  # Output: 3.14"
   ]
  },
  {
   "cell_type": "markdown",
   "metadata": {},
   "source": [
    "c) Complex Numbers (complex)\n",
    "\n",
    "Definition:\n",
    "\n",
    "A complex number consists of a real part and an imaginary part (denoted by j in Python). It is written as a + bj, where:\n",
    "\n",
    "\n",
    "a is the real part (float or int).\n",
    "\n",
    "b is the imaginary part (float or int).\n",
    "\n",
    "j is the imaginary unit (√-1)."
   ]
  },
  {
   "cell_type": "markdown",
   "metadata": {},
   "source": [
    "Example:"
   ]
  },
  {
   "cell_type": "code",
   "execution_count": 233,
   "metadata": {},
   "outputs": [
    {
     "name": "stdout",
     "output_type": "stream",
     "text": [
      "<class 'complex'>\n"
     ]
    }
   ],
   "source": [
    "c1 = 2 + 3j\n",
    "c2 = -1.5 + 4.5j\n",
    "\n",
    "print(type(c1))  # Output: <class 'complex'>"
   ]
  },
  {
   "cell_type": "markdown",
   "metadata": {},
   "source": [
    "Characteristics:\n",
    "\n",
    "Used in scientific computing and engineering.\n",
    "\n",
    "Python provides built-in functions for handling complex numbers.\n"
   ]
  },
  {
   "cell_type": "markdown",
   "metadata": {},
   "source": [
    "Operations with Complex Numbers:"
   ]
  },
  {
   "cell_type": "code",
   "execution_count": 234,
   "metadata": {},
   "outputs": [
    {
     "name": "stdout",
     "output_type": "stream",
     "text": [
      "(3-1j)\n",
      "(1+7j)\n",
      "(14-5j)\n",
      "(-0.5882352941176471+0.6470588235294118j)\n"
     ]
    }
   ],
   "source": [
    "c1 = 2 + 3j\n",
    "c2 = 1 - 4j\n",
    "\n",
    "print(c1 + c2)  # (3 - 1j)\n",
    "print(c1 - c2)  # (1 + 7j)\n",
    "print(c1 * c2)  # (14 - 5j)\n",
    "print(c1 / c2)  # (-0.6470588235294118 + 0.7058823529411765j)"
   ]
  },
  {
   "cell_type": "markdown",
   "metadata": {},
   "source": [
    "Accessing Real and Imaginary Parts:"
   ]
  },
  {
   "cell_type": "code",
   "execution_count": 235,
   "metadata": {},
   "outputs": [
    {
     "name": "stdout",
     "output_type": "stream",
     "text": [
      "4.0\n",
      "5.0\n"
     ]
    }
   ],
   "source": [
    "c = 4 + 5j\n",
    "print(c.real)  # Output: 4.0\n",
    "print(c.imag)  # Output: 5.0"
   ]
  },
  {
   "cell_type": "markdown",
   "metadata": {},
   "source": [
    "Converting Complex to Other Types:"
   ]
  },
  {
   "cell_type": "code",
   "execution_count": 236,
   "metadata": {},
   "outputs": [
    {
     "name": "stdout",
     "output_type": "stream",
     "text": [
      "5.0\n"
     ]
    }
   ],
   "source": [
    "c = 3 + 4j\n",
    "print(abs(c))  # Output: 5.0 (Magnitude of the complex number)"
   ]
  },
  {
   "cell_type": "markdown",
   "metadata": {},
   "source": [
    "Type Conversions Between Numeric Types :\n",
    "\n",
    "\n",
    "Python allows conversion between numeric types using:\n",
    "\n",
    "int()\n",
    "\n",
    "float()\n",
    "\n",
    "complex()"
   ]
  },
  {
   "cell_type": "markdown",
   "metadata": {},
   "source": [
    "Examples:"
   ]
  },
  {
   "cell_type": "code",
   "execution_count": 237,
   "metadata": {},
   "outputs": [
    {
     "name": "stdout",
     "output_type": "stream",
     "text": [
      "10\n",
      "7.0\n",
      "(5+0j)\n",
      "(3.5+0j)\n"
     ]
    }
   ],
   "source": [
    "# Convert float to int\n",
    "x = int(10.99)\n",
    "print(x)  # Output: 10\n",
    "\n",
    "# Convert int to float\n",
    "y = float(7)\n",
    "print(y)  # Output: 7.0\n",
    "\n",
    "# Convert int to complex\n",
    "z = complex(5)\n",
    "print(z)  # Output: (5+0j)\n",
    "\n",
    "# Convert float to complex\n",
    "w = complex(3.5)\n",
    "print(w)  # Output: (3.5+0j)"
   ]
  },
  {
   "cell_type": "markdown",
   "metadata": {},
   "source": [
    "Mathematical Functions in Python\n",
    "\n",
    "Python provides a math module for advanced mathematical operations."
   ]
  },
  {
   "cell_type": "code",
   "execution_count": 238,
   "metadata": {},
   "outputs": [
    {
     "name": "stdout",
     "output_type": "stream",
     "text": [
      "4.0\n",
      "8.0\n",
      "2.302585092994046\n",
      "1.0\n",
      "120\n"
     ]
    }
   ],
   "source": [
    "import math\n",
    "\n",
    "print(math.sqrt(16))   # Square root: 4.0\n",
    "print(math.pow(2, 3))  # Power: 8.0\n",
    "print(math.log(10))    # Natural log: 2.3025\n",
    "print(math.sin(math.pi/2))  # Sine: 1.0\n",
    "print(math.factorial(5))  # Factorial: 120"
   ]
  },
  {
   "cell_type": "markdown",
   "metadata": {},
   "source": [
    "Boolean"
   ]
  },
  {
   "cell_type": "markdown",
   "metadata": {},
   "source": [
    "In Python, bool is a subclass of int, where:\n",
    "\n",
    "\n",
    "True is equivalent to 1\n",
    "\n",
    "False is equivalent to 0"
   ]
  },
  {
   "cell_type": "markdown",
   "metadata": {},
   "source": [
    "Examples:"
   ]
  },
  {
   "cell_type": "code",
   "execution_count": 239,
   "metadata": {},
   "outputs": [
    {
     "name": "stdout",
     "output_type": "stream",
     "text": [
      "11\n",
      "10\n",
      "True\n"
     ]
    }
   ],
   "source": [
    "print(True + 10)  # Output: 6\n",
    "print(False + 10)  # Output: 0\n",
    "print(isinstance(True, int))  # Output: True"
   ]
  },
  {
   "cell_type": "markdown",
   "metadata": {},
   "source": []
  },
  {
   "cell_type": "markdown",
   "metadata": {},
   "source": [
    "\n",
    "\n",
    "2. Sequence Data Types"
   ]
  },
  {
   "cell_type": "markdown",
   "metadata": {},
   "source": [
    "Python provides several built-in sequence data types that store collections of items. A sequence is an ordered collection of elements, where each element can be accessed using an index.\n",
    "\n",
    "\n",
    "Types of Sequence Data Types:\n",
    "\n",
    "List (list) - Mutable sequence of elements.\n",
    "\n",
    "Tuple (tuple) - Immutable sequence of elements.\n",
    "\n",
    "Range (range) - Immutable sequence of numbers.\n",
    "\n",
    "String (str) - Immutable sequence of characters.\n",
    "\n",
    "Let’s explore each of these in detail with examples."
   ]
  },
  {
   "cell_type": "markdown",
   "metadata": {},
   "source": [
    "1. List (list)\n",
    "\n",
    "A list is a mutable (modifiable) ordered collection of elements. It can contain elements of different data types (integers, floats, strings, other lists, etc.)."
   ]
  },
  {
   "cell_type": "markdown",
   "metadata": {},
   "source": [
    "Characteristics of Lists:\n",
    "\n",
    "Ordered (elements maintain the order of insertion).\n",
    "\n",
    "Mutable (can be changed after creation).\n",
    "\n",
    "Supports duplicate elements.\n",
    "\n",
    "Allows different data types in the same list."
   ]
  },
  {
   "cell_type": "markdown",
   "metadata": {},
   "source": [
    "Creating a List:"
   ]
  },
  {
   "cell_type": "code",
   "execution_count": 240,
   "metadata": {},
   "outputs": [
    {
     "name": "stdout",
     "output_type": "stream",
     "text": [
      "[10, 20, 30, 'Python', 3.14]\n",
      "<class 'list'>\n"
     ]
    }
   ],
   "source": [
    "# Creating a list\n",
    "my_list = [10, 20, 30, \"Python\", 3.14]\n",
    "print(my_list)  # Output: [10, 20, 30, 'Python', 3.14]\n",
    "print(type(my_list))  # Output: <class 'list'>"
   ]
  },
  {
   "cell_type": "markdown",
   "metadata": {},
   "source": [
    "Accessing Elements in a List:"
   ]
  },
  {
   "cell_type": "code",
   "execution_count": 241,
   "metadata": {},
   "outputs": [
    {
     "name": "stdout",
     "output_type": "stream",
     "text": [
      "10\n",
      "3.14\n"
     ]
    }
   ],
   "source": [
    "print(my_list[0])  # Output: 10 (First element)\n",
    "print(my_list[-1])  # Output: 3.14 (Last element)"
   ]
  },
  {
   "cell_type": "markdown",
   "metadata": {},
   "source": [
    "Modifying a List:"
   ]
  },
  {
   "cell_type": "code",
   "execution_count": 242,
   "metadata": {},
   "outputs": [
    {
     "name": "stdout",
     "output_type": "stream",
     "text": [
      "[10, 99, 30, 'Python', 3.14]\n"
     ]
    }
   ],
   "source": [
    "my_list[1] = 99  # Changing an element\n",
    "print(my_list)  # Output: [10, 99, 30, 'Python', 3.14]"
   ]
  },
  {
   "cell_type": "markdown",
   "metadata": {},
   "source": [
    "List Operations:"
   ]
  },
  {
   "cell_type": "code",
   "execution_count": 243,
   "metadata": {},
   "outputs": [
    {
     "name": "stdout",
     "output_type": "stream",
     "text": [
      "[10, 99, 30, 'Python', 3.14, 50]\n",
      "[10, 99, 'Python', 3.14, 50]\n",
      "[99, 'Python', 3.14]\n",
      "5\n"
     ]
    }
   ],
   "source": [
    "# Adding elements\n",
    "my_list.append(50)  # Adds to the end\n",
    "print(my_list)  # Output: [10, 99, 30, 'Python', 3.14, 50]\n",
    "\n",
    "# Removing elements\n",
    "my_list.remove(30)  # Removes 30 from list\n",
    "print(my_list)  # Output: [10, 99, 'Python', 3.14, 50]\n",
    "\n",
    "# Slicing\n",
    "print(my_list[1:4])  # Output: [99, 'Python', 3.14]\n",
    "\n",
    "# Checking length\n",
    "print(len(my_list))  # Output: 5"
   ]
  },
  {
   "cell_type": "markdown",
   "metadata": {},
   "source": [
    "2. Tuple (tuple)\n",
    "\n",
    "A tuple is an immutable (unchangeable) ordered collection of elements. Like lists, tuples can contain elements of different data types."
   ]
  },
  {
   "cell_type": "markdown",
   "metadata": {},
   "source": [
    "Characteristics of Tuples:\n",
    "\n",
    "Ordered (elements maintain insertion order).\n",
    "\n",
    "Immutable (cannot be changed after creation).\n",
    "\n",
    "Supports duplicate elements.\n",
    "\n",
    "More memory-efficient than lists."
   ]
  },
  {
   "cell_type": "markdown",
   "metadata": {},
   "source": [
    "Creating a Tuple:"
   ]
  },
  {
   "cell_type": "code",
   "execution_count": 244,
   "metadata": {},
   "outputs": [
    {
     "name": "stdout",
     "output_type": "stream",
     "text": [
      "(10, 20, 30, 'Python', 3.14)\n",
      "<class 'tuple'>\n"
     ]
    }
   ],
   "source": [
    "# Creating a tuple\n",
    "my_tuple = (10, 20, 30, \"Python\", 3.14)\n",
    "print(my_tuple)  # Output: (10, 20, 30, 'Python', 3.14)\n",
    "print(type(my_tuple))  # Output: <class 'tuple'>"
   ]
  },
  {
   "cell_type": "markdown",
   "metadata": {},
   "source": [
    "Accessing Elements in a Tuple:"
   ]
  },
  {
   "cell_type": "code",
   "execution_count": 245,
   "metadata": {},
   "outputs": [
    {
     "name": "stdout",
     "output_type": "stream",
     "text": [
      "10\n",
      "3.14\n"
     ]
    }
   ],
   "source": [
    "print(my_tuple[0])  # Output: 10\n",
    "print(my_tuple[-1])  # Output: 3.14"
   ]
  },
  {
   "cell_type": "markdown",
   "metadata": {},
   "source": [
    "Tuple Immutability:"
   ]
  },
  {
   "cell_type": "code",
   "execution_count": 246,
   "metadata": {},
   "outputs": [],
   "source": [
    "# my_tuple[1] = 99  # This will raise an error: TypeError: 'tuple' object does not support item assignment"
   ]
  },
  {
   "cell_type": "markdown",
   "metadata": {},
   "source": [
    "Tuple Operations:"
   ]
  },
  {
   "cell_type": "code",
   "execution_count": 247,
   "metadata": {},
   "outputs": [
    {
     "name": "stdout",
     "output_type": "stream",
     "text": [
      "(10, 20, 30, 'Python', 3.14, 100, 200)\n",
      "(20, 30, 'Python')\n",
      "5\n"
     ]
    }
   ],
   "source": [
    "# Tuple concatenation\n",
    "new_tuple = my_tuple + (100, 200)\n",
    "print(new_tuple)  # Output: (10, 20, 30, 'Python', 3.14, 100, 200)\n",
    "\n",
    "# Slicing\n",
    "print(my_tuple[1:4])  # Output: (20, 30, 'Python')\n",
    "\n",
    "# Length of tuple\n",
    "print(len(my_tuple))  # Output: 5\n"
   ]
  },
  {
   "cell_type": "markdown",
   "metadata": {},
   "source": [
    "Tuple with a Single Element:"
   ]
  },
  {
   "cell_type": "code",
   "execution_count": 248,
   "metadata": {},
   "outputs": [
    {
     "name": "stdout",
     "output_type": "stream",
     "text": [
      "<class 'tuple'>\n"
     ]
    }
   ],
   "source": [
    "single_element_tuple = (10,)  # Note the comma! Otherwise, it is treated as an integer.\n",
    "print(type(single_element_tuple))  # Output: <class 'tuple'>"
   ]
  },
  {
   "cell_type": "markdown",
   "metadata": {},
   "source": [
    "3. Range (range)\n",
    "\n",
    "The range type represents an immutable sequence of numbers, commonly used for loops."
   ]
  },
  {
   "cell_type": "markdown",
   "metadata": {},
   "source": [
    "Characteristics of Ranges:\n",
    "\n",
    "Immutable (cannot be changed after creation).\n",
    "\n",
    "Efficient memory usage as numbers are generated on demand.\n",
    "\n",
    "Supports start, stop, and step."
   ]
  },
  {
   "cell_type": "markdown",
   "metadata": {},
   "source": [
    "Creating a Range:"
   ]
  },
  {
   "cell_type": "code",
   "execution_count": 249,
   "metadata": {},
   "outputs": [
    {
     "name": "stdout",
     "output_type": "stream",
     "text": [
      "[0, 1, 2, 3, 4]\n",
      "[2, 3, 4, 5, 6, 7, 8, 9]\n",
      "[1, 3, 5, 7, 9]\n"
     ]
    }
   ],
   "source": [
    "# Range from 0 to 4\n",
    "r = range(5)\n",
    "print(list(r))  # Output: [0, 1, 2, 3, 4]\n",
    "\n",
    "# Range with a start and stop\n",
    "r2 = range(2, 10)\n",
    "print(list(r2))  # Output: [2, 3, 4, 5, 6, 7, 8, 9]\n",
    "\n",
    "# Range with step\n",
    "r3 = range(1, 10, 2)  # Step of 2\n",
    "print(list(r3))  # Output: [1, 3, 5, 7, 9]"
   ]
  },
  {
   "cell_type": "markdown",
   "metadata": {},
   "source": [
    "4. String (str)\n",
    "\n",
    "A string is an immutable sequence of characters. Strings are enclosed in single ('), double (\") or triple (''' or \"\"\") quotes."
   ]
  },
  {
   "cell_type": "markdown",
   "metadata": {},
   "source": [
    "Characteristics of Strings:\n",
    "\n",
    "Immutable (cannot be changed after creation).\n",
    "\n",
    "Supports indexing and slicing.\n",
    "\n",
    "Supports string operations like concatenation, repetition, and formatting."
   ]
  },
  {
   "cell_type": "markdown",
   "metadata": {},
   "source": [
    "Creating a String:"
   ]
  },
  {
   "cell_type": "code",
   "execution_count": 250,
   "metadata": {},
   "outputs": [
    {
     "name": "stdout",
     "output_type": "stream",
     "text": [
      "Hello, Python!\n",
      "<class 'str'>\n"
     ]
    }
   ],
   "source": [
    "my_string = \"Hello, Python!\"\n",
    "print(my_string)  # Output: Hello, Python!\n",
    "print(type(my_string))  # Output: <class 'str'>"
   ]
  },
  {
   "cell_type": "markdown",
   "metadata": {},
   "source": [
    "Accessing Characters in a String:"
   ]
  },
  {
   "cell_type": "code",
   "execution_count": 251,
   "metadata": {},
   "outputs": [
    {
     "name": "stdout",
     "output_type": "stream",
     "text": [
      "H\n",
      "!\n"
     ]
    }
   ],
   "source": [
    "print(my_string[0])  # Output: 'H'\n",
    "print(my_string[-1])  # Output: '!'"
   ]
  },
  {
   "cell_type": "markdown",
   "metadata": {},
   "source": [
    "String Slicing:"
   ]
  },
  {
   "cell_type": "code",
   "execution_count": 252,
   "metadata": {},
   "outputs": [
    {
     "name": "stdout",
     "output_type": "stream",
     "text": [
      "Hello\n",
      "Hello\n",
      "Python!\n"
     ]
    }
   ],
   "source": [
    "print(my_string[0:5])  # Output: 'Hello'\n",
    "print(my_string[:5])   # Output: 'Hello'\n",
    "print(my_string[7:])   # Output: 'Python!'"
   ]
  },
  {
   "cell_type": "markdown",
   "metadata": {},
   "source": [
    "String Operations:"
   ]
  },
  {
   "cell_type": "code",
   "execution_count": 253,
   "metadata": {},
   "outputs": [
    {
     "name": "stdout",
     "output_type": "stream",
     "text": [
      "Hello World\n",
      "HelloHelloHello\n",
      "5\n",
      "hello\n",
      "HELLO\n",
      "Hello World\n",
      "Hello Python\n"
     ]
    }
   ],
   "source": [
    "# Concatenation\n",
    "str1 = \"Hello\"\n",
    "str2 = \"World\"\n",
    "print(str1 + \" \" + str2)  # Output: 'Hello World'\n",
    "\n",
    "# Repetition\n",
    "print(str1 * 3)  # Output: 'HelloHelloHello'\n",
    "\n",
    "# Length of string\n",
    "print(len(str1))  # Output: 14\n",
    "\n",
    "# String methods\n",
    "print(str1.lower())  # Output: 'hello, python!'\n",
    "print(str1.upper())  # Output: 'HELLO, PYTHON!'\n",
    "str3=str1 + \" \" + str2\n",
    "print(str3)\n",
    "print(str3.replace(\"World\",\"Python\" ))  # Output: 'Hello, World!'"
   ]
  },
  {
   "cell_type": "markdown",
   "metadata": {},
   "source": [
    "\n",
    "Comparison of Sequence Data Types:\n",
    "\n",
    "Data Type\t   Mutability\tOrdered\t  Allows Duplicate Elements\t        Example\n",
    "\n",
    "List (list)\t    Mutable\t    Yes\t                Yes\t                [10, 20, \"Python\"]\n",
    "\n",
    "Tuple (tuple)\tImmutable\tYes\t                Yes\t                (10, 20, \"Python\")\n",
    "\n",
    "Range (range)\tImmutable\tYes\t                No\t                range(5)\n",
    "\n",
    "String (str)\tImmutable\tYes\t                Yes\t                \"Hello, Python!\"\n"
   ]
  },
  {
   "cell_type": "markdown",
   "metadata": {},
   "source": [
    "3. Python Built-in Mapping Data Type: \n",
    "\n",
    "   Dictionary (dict)"
   ]
  },
  {
   "cell_type": "markdown",
   "metadata": {},
   "source": [
    "A dictionary (dict) is a built-in mapping data type in Python that stores key-value pairs. It is one of the most powerful and commonly used data structures in Python. Unlike sequences (lists, tuples, strings), which store values indexed by position, dictionaries store values indexed by keys."
   ]
  },
  {
   "cell_type": "markdown",
   "metadata": {},
   "source": [
    " Characteristics of a Dictionary:\n",
    "\n",
    "Unordered (before Python 3.7) → Since Python 3.7, dictionaries maintain insertion order.\n",
    "\n",
    "Mutable → Can be modified (add, remove, update key-value pairs).\n",
    "\n",
    "Keys must be unique → Duplicate keys are not allowed.\n",
    "\n",
    "Keys must be immutable → Can be int, float, str, tuple (but not list or another dict).\n",
    "\n",
    "Values can be of any data type → Lists, Tuples, Sets, or even another Dictionary.\n"
   ]
  },
  {
   "cell_type": "markdown",
   "metadata": {},
   "source": [
    "Creating a Dictionary:\n",
    "\n",
    "Dictionaries can be created using:\n",
    "\n",
    "    i)  Curly braces {}\n",
    "\n",
    "    ii) The dict() constructor\n",
    "\n",
    "Example 1: Creating a Dictionary"
   ]
  },
  {
   "cell_type": "code",
   "execution_count": 254,
   "metadata": {},
   "outputs": [
    {
     "name": "stdout",
     "output_type": "stream",
     "text": [
      "{'name': 'Alice', 'age': 25, 'city': 'New York'}\n",
      "{'name': 'Bob', 'age': 30, 'city': 'London'}\n"
     ]
    }
   ],
   "source": [
    "# Using curly braces\n",
    "my_dict = {\n",
    "    \"name\": \"Alice\",\n",
    "    \"age\": 25,\n",
    "    \"city\": \"New York\"\n",
    "}\n",
    "print(my_dict)\n",
    "# Output: {'name': 'Alice', 'age': 25, 'city': 'New York'}\n",
    "\n",
    "# Using dict() constructor\n",
    "my_dict2 = dict(name=\"Bob\", age=30, city=\"London\")\n",
    "print(my_dict2)\n",
    "# Output: {'name': 'Bob', 'age': 30, 'city': 'London'}"
   ]
  },
  {
   "cell_type": "markdown",
   "metadata": {},
   "source": [
    "Example 2: Dictionary with Different Data Types"
   ]
  },
  {
   "cell_type": "code",
   "execution_count": 255,
   "metadata": {},
   "outputs": [
    {
     "name": "stdout",
     "output_type": "stream",
     "text": [
      "{'name': 'John', 'age': 28, 'hobbies': ['reading', 'gaming', 'coding'], 'address': {'city': 'Los Angeles', 'zip': 90001}, 100: 'Numeric Key', (1, 2): 'Tuple as Key'}\n"
     ]
    }
   ],
   "source": [
    "person = {\n",
    "    \"name\": \"John\",\n",
    "    \"age\": 28,\n",
    "    \"hobbies\": [\"reading\", \"gaming\", \"coding\"],  # List inside dictionary\n",
    "    \"address\": {\"city\": \"Los Angeles\", \"zip\": 90001},  # Nested dictionary\n",
    "    100: \"Numeric Key\",\n",
    "    (1, 2): \"Tuple as Key\"  # Tuples are immutable, so they can be keys\n",
    "}\n",
    "print(person)"
   ]
  },
  {
   "cell_type": "markdown",
   "metadata": {},
   "source": [
    "3. Accessing Dictionary Elements\n",
    "\n",
    "You can access values using keys (not indices like lists).\n",
    "\n",
    "\n",
    "Using Square Brackets []"
   ]
  },
  {
   "cell_type": "code",
   "execution_count": 256,
   "metadata": {},
   "outputs": [
    {
     "name": "stdout",
     "output_type": "stream",
     "text": [
      "John\n",
      "['reading', 'gaming', 'coding']\n"
     ]
    }
   ],
   "source": [
    "print(person[\"name\"])  # Output: John\n",
    "print(person[\"hobbies\"])  # Output: ['reading', 'gaming', 'coding']\n",
    "# print(person.get(\"salary\")) Output: KeyError"
   ]
  },
  {
   "cell_type": "markdown",
   "metadata": {},
   "source": [
    "Using get() Method (Avoids KeyError)"
   ]
  },
  {
   "cell_type": "code",
   "execution_count": 257,
   "metadata": {},
   "outputs": [
    {
     "name": "stdout",
     "output_type": "stream",
     "text": [
      "28\n",
      "None\n",
      "Not Found\n"
     ]
    }
   ],
   "source": [
    "print(person.get(\"age\"))  # Output: 28\n",
    "print(person.get(\"salary\"))  # Output: None (instead of error)\n",
    "print(person.get(\"salary\", \"Not Found\"))  # Output: Not Found (default value)"
   ]
  },
  {
   "cell_type": "markdown",
   "metadata": {},
   "source": [
    "Modifying a Dictionary:\n",
    "\n",
    "Dictionaries are mutable, so you can update, add, or remove elements.\n",
    "\n",
    "\n",
    "Updating an Existing Key"
   ]
  },
  {
   "cell_type": "code",
   "execution_count": 258,
   "metadata": {},
   "outputs": [
    {
     "name": "stdout",
     "output_type": "stream",
     "text": [
      "29\n"
     ]
    }
   ],
   "source": [
    "person[\"age\"] = 29\n",
    "print(person[\"age\"])  # Output: 29"
   ]
  },
  {
   "cell_type": "markdown",
   "metadata": {},
   "source": [
    "Adding a New Key-Value Pair:"
   ]
  },
  {
   "cell_type": "code",
   "execution_count": 259,
   "metadata": {},
   "outputs": [
    {
     "name": "stdout",
     "output_type": "stream",
     "text": [
      "{'name': 'John', 'age': 29, 'hobbies': ['reading', 'gaming', 'coding'], 'address': {'city': 'Los Angeles', 'zip': 90001}, 100: 'Numeric Key', (1, 2): 'Tuple as Key', 'gender': 'Male'}\n"
     ]
    }
   ],
   "source": [
    "person[\"gender\"] = \"Male\"\n",
    "print(person)\n",
    "# Output: {'name': 'John', 'age': 29, 'hobbies': [...], 'address': {...}, 'gender': 'Male'}"
   ]
  },
  {
   "cell_type": "markdown",
   "metadata": {},
   "source": [
    "Removing Elements:"
   ]
  },
  {
   "cell_type": "code",
   "execution_count": 260,
   "metadata": {},
   "outputs": [
    {
     "name": "stdout",
     "output_type": "stream",
     "text": [
      "{'name': 'John', 'hobbies': ['reading', 'gaming', 'coding'], 'address': {'city': 'Los Angeles', 'zip': 90001}, 100: 'Numeric Key', (1, 2): 'Tuple as Key', 'gender': 'Male'}\n",
      "Male\n",
      "{}\n"
     ]
    }
   ],
   "source": [
    "del person[\"age\"]  # Removes the key-value pair\n",
    "print(person)\n",
    "\n",
    "removed_value = person.pop(\"gender\")  # Removes and returns the value\n",
    "print(removed_value)  # Output: Male\n",
    "\n",
    "person.clear()  # Removes all items from the dictionary\n",
    "print(person)  # Output: {}"
   ]
  },
  {
   "cell_type": "markdown",
   "metadata": {},
   "source": [
    "Dictionary Operations :\n"
   ]
  },
  {
   "cell_type": "markdown",
   "metadata": {},
   "source": [
    "\n",
    "Checking if a Key Exists:"
   ]
  },
  {
   "cell_type": "code",
   "execution_count": 261,
   "metadata": {},
   "outputs": [
    {
     "name": "stdout",
     "output_type": "stream",
     "text": [
      "False\n",
      "False\n"
     ]
    }
   ],
   "source": [
    "print(\"name\" in person)  # Output: True\n",
    "print(\"salary\" in person)  # Output: False"
   ]
  },
  {
   "cell_type": "markdown",
   "metadata": {},
   "source": [
    "Dictionary Length (len())"
   ]
  },
  {
   "cell_type": "code",
   "execution_count": 262,
   "metadata": {},
   "outputs": [
    {
     "name": "stdout",
     "output_type": "stream",
     "text": [
      "3\n"
     ]
    }
   ],
   "source": [
    "print(len(my_dict))  # Output: 3 (number of key-value pairs)"
   ]
  },
  {
   "cell_type": "markdown",
   "metadata": {},
   "source": [
    "Iterating Through a Dictionary:"
   ]
  },
  {
   "cell_type": "markdown",
   "metadata": {},
   "source": [
    "Using a for loop"
   ]
  },
  {
   "cell_type": "code",
   "execution_count": 263,
   "metadata": {},
   "outputs": [
    {
     "name": "stdout",
     "output_type": "stream",
     "text": [
      "name : Alice\n",
      "age : 25\n",
      "city : New York\n"
     ]
    }
   ],
   "source": [
    "for key in my_dict:\n",
    "    print(key, \":\", my_dict[key])"
   ]
  },
  {
   "cell_type": "markdown",
   "metadata": {},
   "source": [
    "Using items() Method"
   ]
  },
  {
   "cell_type": "code",
   "execution_count": 264,
   "metadata": {},
   "outputs": [
    {
     "name": "stdout",
     "output_type": "stream",
     "text": [
      "name -> Alice\n",
      "age -> 25\n",
      "city -> New York\n"
     ]
    }
   ],
   "source": [
    "for key, value in my_dict.items():\n",
    "    print(key, \"->\", value)"
   ]
  },
  {
   "cell_type": "markdown",
   "metadata": {},
   "source": [
    "Using keys() and values() Methods"
   ]
  },
  {
   "cell_type": "code",
   "execution_count": 265,
   "metadata": {},
   "outputs": [
    {
     "name": "stdout",
     "output_type": "stream",
     "text": [
      "dict_keys(['name', 'age', 'city'])\n",
      "dict_values(['Alice', 25, 'New York'])\n"
     ]
    }
   ],
   "source": [
    "print(my_dict.keys())  # Output: dict_keys(['name', 'age', 'city'])\n",
    "print(my_dict.values())  # Output: dict_values(['Alice', 25, 'New York'])"
   ]
  },
  {
   "cell_type": "markdown",
   "metadata": {},
   "source": [
    "Dictionary Methods :"
   ]
  },
  {
   "cell_type": "markdown",
   "metadata": {},
   "source": [
    "get(key, default)\t    Returns the value for a key; returns default if key is missing      \td.get(\"age\", 30)\n",
    "\n",
    "keys()\tReturns all dictionary keys\td.keys()\n",
    "\n",
    "values()\tReturns all dictionary values\td.values()\n",
    "\n",
    "items()\tReturns all key-value pairs as tuples\td.items()\n",
    "\n",
    "update(dict2)\tMerges dict2 into dict\td.update({\"city\": \"Paris\"})\n",
    "\n",
    "pop(key)\tRemoves and returns value of the given key\td.pop(\"age\")\n",
    "\n",
    "del d[key]\tDeletes key-value pair\tdel d[\"name\"]\n",
    "\n",
    "clear()\tRemoves all elements\td.clear()"
   ]
  },
  {
   "cell_type": "markdown",
   "metadata": {},
   "source": [
    "Nested Dictionary:\n",
    "\n",
    "A dictionary can contain another dictionary as a value."
   ]
  },
  {
   "cell_type": "code",
   "execution_count": 266,
   "metadata": {},
   "outputs": [
    {
     "name": "stdout",
     "output_type": "stream",
     "text": [
      "90\n",
      "Chicago\n"
     ]
    }
   ],
   "source": [
    "student = {\n",
    "    \"name\": \"Emily\",\n",
    "    \"grades\": {\"math\": 90, \"science\": 85, \"history\": 88},\n",
    "    \"address\": {\"city\": \"Chicago\", \"zip\": \"60601\"}\n",
    "}\n",
    "print(student[\"grades\"][\"math\"])  # Output: 90\n",
    "print(student[\"address\"][\"city\"])  # Output: Chicago"
   ]
  },
  {
   "cell_type": "markdown",
   "metadata": {},
   "source": [
    "Dictionary Comprehension :\n",
    "\n",
    "Just like list comprehensions, Python supports dictionary comprehensions."
   ]
  },
  {
   "cell_type": "code",
   "execution_count": 267,
   "metadata": {},
   "outputs": [
    {
     "name": "stdout",
     "output_type": "stream",
     "text": [
      "{1: 1, 2: 4, 3: 9, 4: 16, 5: 25}\n"
     ]
    }
   ],
   "source": [
    "squares = {x: x**2 for x in range(1, 6)}\n",
    "print(squares)"
   ]
  },
  {
   "cell_type": "markdown",
   "metadata": {},
   "source": [
    "\n",
    "When to Use a Dictionary?\n",
    "\n",
    "✅ Use a list when you need an ordered collection and access by index.\n",
    "\n",
    "✅ Use a dictionary when you need key-value mapping and fast lookups.\n",
    "\n",
    "✅ Use a nested dictionary when dealing with structured data."
   ]
  }
 ],
 "metadata": {
  "kernelspec": {
   "display_name": "Python 3",
   "language": "python",
   "name": "python3"
  },
  "language_info": {
   "codemirror_mode": {
    "name": "ipython",
    "version": 3
   },
   "file_extension": ".py",
   "mimetype": "text/x-python",
   "name": "python",
   "nbconvert_exporter": "python",
   "pygments_lexer": "ipython3",
   "version": "3.12.7"
  }
 },
 "nbformat": 4,
 "nbformat_minor": 2
}
