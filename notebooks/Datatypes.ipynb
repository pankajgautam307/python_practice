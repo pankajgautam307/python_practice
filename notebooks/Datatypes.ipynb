{
 "cells": [
  {
   "cell_type": "markdown",
   "metadata": {},
   "source": [
    "Python Built-in Data Types: \n",
    "\n",
    "Python provides several built-in data types, which can be classified into different categories. Some of the most commonly used ones include:"
   ]
  },
  {
   "cell_type": "markdown",
   "metadata": {},
   "source": [
    "\n",
    "\n",
    "1. Number Data Type\n",
    "\n",
    "Python provides several built-in numeric data types that are used to represent different types of numbers. The three main numeric data types in Python are:\n",
    "\n",
    "a) Integer (int)\n",
    "\n",
    "b) Floating-point (float)\n",
    "\n",
    "c) Complex (complex)\n",
    "\n",
    "Each of these types serves a different purpose, and Python provides various operations and functions to work with them."
   ]
  },
  {
   "cell_type": "code",
   "execution_count": 93,
   "metadata": {},
   "outputs": [
    {
     "name": "stdout",
     "output_type": "stream",
     "text": [
      "<class 'int'>\n",
      "<class 'float'>\n",
      "<class 'complex'>\n"
     ]
    }
   ],
   "source": [
    "# Integer (int)\n",
    "x = 10  \n",
    "print(type(x))  # Output: <class 'int'>\n",
    "\n",
    "# Float (float)\n",
    "y = 10.5  \n",
    "print(type(y))  # Output: <class 'float'>\n",
    "\n",
    "# Complex (complex)\n",
    "z = 3 + 4j  \n",
    "print(type(z))  # Output: <class 'complex'>"
   ]
  },
  {
   "cell_type": "markdown",
   "metadata": {},
   "source": [
    "a) Integer (int)\n",
    "\n",
    "Definition:\n",
    "\n",
    "An integer is a whole number that can be positive, negative, or zero. It does not have a fractional (decimal) part."
   ]
  },
  {
   "cell_type": "markdown",
   "metadata": {},
   "source": [
    "Example:"
   ]
  },
  {
   "cell_type": "code",
   "execution_count": 94,
   "metadata": {},
   "outputs": [
    {
     "name": "stdout",
     "output_type": "stream",
     "text": [
      "<class 'int'>\n",
      "<class 'int'>\n",
      "<class 'int'>\n"
     ]
    }
   ],
   "source": [
    "x = 10      # Positive integer\n",
    "y = -5      # Negative integer\n",
    "z = 0       # Zero\n",
    "\n",
    "print(type(x))  # Output: <class 'int'>\n",
    "print(type(y))  # Output: <class 'int'>\n",
    "print(type(z))  # Output: <class 'int'>"
   ]
  },
  {
   "cell_type": "markdown",
   "metadata": {},
   "source": [
    "Characteristics:\n",
    "\n",
    "Can be of arbitrary length (limited by system memory).\n",
    "\n",
    "Supports basic arithmetic operations: +, -, *, /, //, %, **.\n",
    "\n",
    "Can be converted to other types (float, complex, str, etc.)."
   ]
  },
  {
   "cell_type": "markdown",
   "metadata": {},
   "source": [
    "Operations with Integers:\n"
   ]
  },
  {
   "cell_type": "code",
   "execution_count": 95,
   "metadata": {},
   "outputs": [
    {
     "name": "stdout",
     "output_type": "stream",
     "text": [
      "13\n",
      "7\n",
      "30\n",
      "3.3333333333333335\n",
      "3\n",
      "1\n",
      "1000\n"
     ]
    }
   ],
   "source": [
    "a = 10\n",
    "b = 3\n",
    "\n",
    "print(a + b)   # Addition: 13\n",
    "print(a - b)   # Subtraction: 7\n",
    "print(a * b)   # Multiplication: 30\n",
    "print(a / b)   # Division (float result): 3.3333\n",
    "print(a // b)  # Floor Division (integer result): 3\n",
    "print(a % b)   # Modulus (remainder): 1\n",
    "print(a ** b)  # Exponentiation (power): 1000"
   ]
  },
  {
   "cell_type": "markdown",
   "metadata": {},
   "source": [
    "b) Floating-Point (float)\n",
    "\n",
    "Definition:\n",
    "\n",
    "A floating-point number (or float) is a number that has a decimal or fractional part. It is used to represent real numbers."
   ]
  },
  {
   "cell_type": "markdown",
   "metadata": {},
   "source": [
    "Example:"
   ]
  },
  {
   "cell_type": "code",
   "execution_count": 96,
   "metadata": {},
   "outputs": [
    {
     "name": "stdout",
     "output_type": "stream",
     "text": [
      "<class 'float'>\n",
      "<class 'float'>\n",
      "<class 'float'>\n"
     ]
    }
   ],
   "source": [
    "x = 10.5   # Positive float\n",
    "y = -3.14  # Negative float\n",
    "z = 0.0    # Zero as a float\n",
    "\n",
    "print(type(x))  # Output: <class 'float'>\n",
    "print(type(y))  # Output: <class 'float'>\n",
    "print(type(z))  # Output: <class 'float'>"
   ]
  },
  {
   "cell_type": "markdown",
   "metadata": {},
   "source": [
    "Characteristics:\n",
    "\n",
    "Supports decimal numbers.\n",
    "\n",
    "Uses double-precision floating point representation (IEEE 754 standard).\n",
    "\n",
    "Can be represented in scientific notation (e or E).\n",
    "\n",
    "Operations are similar to integers."
   ]
  },
  {
   "cell_type": "markdown",
   "metadata": {},
   "source": [
    "Scientific Notation Example:"
   ]
  },
  {
   "cell_type": "code",
   "execution_count": 97,
   "metadata": {},
   "outputs": [
    {
     "name": "stdout",
     "output_type": "stream",
     "text": [
      "3500.0\n",
      "0.012\n"
     ]
    }
   ],
   "source": [
    "a = 3.5e3  # 3.5 * 10^3 = 3500.0\n",
    "b = 1.2E-2 # 1.2 * 10^-2 = 0.012\n",
    "\n",
    "print(a)  # Output: 3500.0\n",
    "print(b)  # Output: 0.012"
   ]
  },
  {
   "cell_type": "markdown",
   "metadata": {},
   "source": [
    "Operations with Floats:"
   ]
  },
  {
   "cell_type": "code",
   "execution_count": 98,
   "metadata": {},
   "outputs": [
    {
     "name": "stdout",
     "output_type": "stream",
     "text": [
      "7.5\n",
      "3.5\n",
      "11.0\n",
      "2.75\n",
      "2.0\n",
      "1.5\n",
      "30.25\n"
     ]
    }
   ],
   "source": [
    "a = 5.5\n",
    "b = 2.0\n",
    "\n",
    "print(a + b)   # 7.5\n",
    "print(a - b)   # 3.5\n",
    "print(a * b)   # 11.0\n",
    "print(a / b)   # 2.75\n",
    "print(a // b)  # 2.0 (Floor Division)\n",
    "print(a % b)   # 1.5 (Modulus)\n",
    "print(a ** b)  # 30.25 (Exponentiation)"
   ]
  },
  {
   "cell_type": "markdown",
   "metadata": {},
   "source": [
    "Rounding and Precision Handling:"
   ]
  },
  {
   "cell_type": "code",
   "execution_count": 99,
   "metadata": {},
   "outputs": [
    {
     "name": "stdout",
     "output_type": "stream",
     "text": [
      "3.14\n"
     ]
    }
   ],
   "source": [
    "x = 3.14159\n",
    "print(round(x,2))  # Output: 3.14"
   ]
  },
  {
   "cell_type": "markdown",
   "metadata": {},
   "source": [
    "c) Complex Numbers (complex)\n",
    "\n",
    "Definition:\n",
    "\n",
    "A complex number consists of a real part and an imaginary part (denoted by j in Python). It is written as a + bj, where:\n",
    "\n",
    "\n",
    "a is the real part (float or int).\n",
    "\n",
    "b is the imaginary part (float or int).\n",
    "\n",
    "j is the imaginary unit (√-1)."
   ]
  },
  {
   "cell_type": "markdown",
   "metadata": {},
   "source": [
    "Example:"
   ]
  },
  {
   "cell_type": "code",
   "execution_count": 100,
   "metadata": {},
   "outputs": [
    {
     "name": "stdout",
     "output_type": "stream",
     "text": [
      "<class 'complex'>\n"
     ]
    }
   ],
   "source": [
    "c1 = 2 + 3j\n",
    "c2 = -1.5 + 4.5j\n",
    "\n",
    "print(type(c1))  # Output: <class 'complex'>"
   ]
  },
  {
   "cell_type": "markdown",
   "metadata": {},
   "source": [
    "Characteristics:\n",
    "\n",
    "Used in scientific computing and engineering.\n",
    "\n",
    "Python provides built-in functions for handling complex numbers.\n"
   ]
  },
  {
   "cell_type": "markdown",
   "metadata": {},
   "source": [
    "Operations with Complex Numbers:"
   ]
  },
  {
   "cell_type": "code",
   "execution_count": 101,
   "metadata": {},
   "outputs": [
    {
     "name": "stdout",
     "output_type": "stream",
     "text": [
      "(3-1j)\n",
      "(1+7j)\n",
      "(14-5j)\n",
      "(-0.5882352941176471+0.6470588235294118j)\n"
     ]
    }
   ],
   "source": [
    "c1 = 2 + 3j\n",
    "c2 = 1 - 4j\n",
    "\n",
    "print(c1 + c2)  # (3 - 1j)\n",
    "print(c1 - c2)  # (1 + 7j)\n",
    "print(c1 * c2)  # (14 - 5j)\n",
    "print(c1 / c2)  # (-0.6470588235294118 + 0.7058823529411765j)"
   ]
  },
  {
   "cell_type": "markdown",
   "metadata": {},
   "source": [
    "Accessing Real and Imaginary Parts:"
   ]
  },
  {
   "cell_type": "code",
   "execution_count": 102,
   "metadata": {},
   "outputs": [
    {
     "name": "stdout",
     "output_type": "stream",
     "text": [
      "4.0\n",
      "5.0\n"
     ]
    }
   ],
   "source": [
    "c = 4 + 5j\n",
    "print(c.real)  # Output: 4.0\n",
    "print(c.imag)  # Output: 5.0"
   ]
  },
  {
   "cell_type": "markdown",
   "metadata": {},
   "source": [
    "Converting Complex to Other Types:"
   ]
  },
  {
   "cell_type": "code",
   "execution_count": 103,
   "metadata": {},
   "outputs": [
    {
     "name": "stdout",
     "output_type": "stream",
     "text": [
      "5.0\n"
     ]
    }
   ],
   "source": [
    "c = 3 + 4j\n",
    "print(abs(c))  # Output: 5.0 (Magnitude of the complex number)"
   ]
  },
  {
   "cell_type": "markdown",
   "metadata": {},
   "source": [
    "Type Conversions Between Numeric Types :\n",
    "\n",
    "\n",
    "Python allows conversion between numeric types using:\n",
    "\n",
    "int()\n",
    "\n",
    "float()\n",
    "\n",
    "complex()"
   ]
  },
  {
   "cell_type": "markdown",
   "metadata": {},
   "source": [
    "Examples:"
   ]
  },
  {
   "cell_type": "code",
   "execution_count": 104,
   "metadata": {},
   "outputs": [
    {
     "name": "stdout",
     "output_type": "stream",
     "text": [
      "10\n",
      "7.0\n",
      "(5+0j)\n",
      "(3.5+0j)\n"
     ]
    }
   ],
   "source": [
    "# Convert float to int\n",
    "x = int(10.99)\n",
    "print(x)  # Output: 10\n",
    "\n",
    "# Convert int to float\n",
    "y = float(7)\n",
    "print(y)  # Output: 7.0\n",
    "\n",
    "# Convert int to complex\n",
    "z = complex(5)\n",
    "print(z)  # Output: (5+0j)\n",
    "\n",
    "# Convert float to complex\n",
    "w = complex(3.5)\n",
    "print(w)  # Output: (3.5+0j)"
   ]
  },
  {
   "cell_type": "markdown",
   "metadata": {},
   "source": [
    "Mathematical Functions in Python\n",
    "\n",
    "Python provides a math module for advanced mathematical operations."
   ]
  },
  {
   "cell_type": "code",
   "execution_count": 105,
   "metadata": {},
   "outputs": [
    {
     "name": "stdout",
     "output_type": "stream",
     "text": [
      "4.0\n",
      "8.0\n",
      "2.302585092994046\n",
      "1.0\n",
      "120\n"
     ]
    }
   ],
   "source": [
    "import math\n",
    "\n",
    "print(math.sqrt(16))   # Square root: 4.0\n",
    "print(math.pow(2, 3))  # Power: 8.0\n",
    "print(math.log(10))    # Natural log: 2.3025\n",
    "print(math.sin(math.pi/2))  # Sine: 1.0\n",
    "print(math.factorial(5))  # Factorial: 120"
   ]
  },
  {
   "cell_type": "markdown",
   "metadata": {},
   "source": [
    "Boolean"
   ]
  },
  {
   "cell_type": "markdown",
   "metadata": {},
   "source": [
    "In Python, bool is a subclass of int, where:\n",
    "\n",
    "\n",
    "True is equivalent to 1\n",
    "\n",
    "False is equivalent to 0"
   ]
  },
  {
   "cell_type": "markdown",
   "metadata": {},
   "source": [
    "Examples:"
   ]
  },
  {
   "cell_type": "code",
   "execution_count": 106,
   "metadata": {},
   "outputs": [
    {
     "name": "stdout",
     "output_type": "stream",
     "text": [
      "11\n",
      "10\n",
      "True\n"
     ]
    }
   ],
   "source": [
    "print(True + 10)  # Output: 6\n",
    "print(False + 10)  # Output: 0\n",
    "print(isinstance(True, int))  # Output: True"
   ]
  },
  {
   "cell_type": "markdown",
   "metadata": {},
   "source": []
  },
  {
   "cell_type": "markdown",
   "metadata": {},
   "source": [
    "\n",
    "\n",
    "2. Sequence Data Types"
   ]
  },
  {
   "cell_type": "markdown",
   "metadata": {},
   "source": [
    "Python provides several built-in sequence data types that store collections of items. A sequence is an ordered collection of elements, where each element can be accessed using an index.\n",
    "\n",
    "\n",
    "Types of Sequence Data Types:\n",
    "\n",
    "List (list) - Mutable sequence of elements.\n",
    "\n",
    "Tuple (tuple) - Immutable sequence of elements.\n",
    "\n",
    "Range (range) - Immutable sequence of numbers.\n",
    "\n",
    "String (str) - Immutable sequence of characters.\n",
    "\n",
    "Let’s explore each of these in detail with examples."
   ]
  },
  {
   "cell_type": "markdown",
   "metadata": {},
   "source": [
    "1. List (list)\n",
    "\n",
    "A list is a mutable (modifiable) ordered collection of elements. It can contain elements of different data types (integers, floats, strings, other lists, etc.)."
   ]
  },
  {
   "cell_type": "markdown",
   "metadata": {},
   "source": [
    "Characteristics of Lists:\n",
    "\n",
    "Ordered (elements maintain the order of insertion).\n",
    "\n",
    "Mutable (can be changed after creation).\n",
    "\n",
    "Supports duplicate elements.\n",
    "\n",
    "Allows different data types in the same list."
   ]
  },
  {
   "cell_type": "markdown",
   "metadata": {},
   "source": [
    "Creating a List:"
   ]
  },
  {
   "cell_type": "code",
   "execution_count": 107,
   "metadata": {},
   "outputs": [
    {
     "name": "stdout",
     "output_type": "stream",
     "text": [
      "[10, 20, 30, 'Python', 3.14]\n",
      "<class 'list'>\n"
     ]
    }
   ],
   "source": [
    "# Creating a list\n",
    "my_list = [10, 20, 30, \"Python\", 3.14]\n",
    "print(my_list)  # Output: [10, 20, 30, 'Python', 3.14]\n",
    "print(type(my_list))  # Output: <class 'list'>"
   ]
  },
  {
   "cell_type": "markdown",
   "metadata": {},
   "source": [
    "Accessing Elements in a List:"
   ]
  },
  {
   "cell_type": "code",
   "execution_count": 108,
   "metadata": {},
   "outputs": [
    {
     "name": "stdout",
     "output_type": "stream",
     "text": [
      "10\n",
      "3.14\n"
     ]
    }
   ],
   "source": [
    "print(my_list[0])  # Output: 10 (First element)\n",
    "print(my_list[-1])  # Output: 3.14 (Last element)"
   ]
  },
  {
   "cell_type": "markdown",
   "metadata": {},
   "source": [
    "Modifying a List:"
   ]
  },
  {
   "cell_type": "code",
   "execution_count": 109,
   "metadata": {},
   "outputs": [
    {
     "name": "stdout",
     "output_type": "stream",
     "text": [
      "[10, 99, 30, 'Python', 3.14]\n"
     ]
    }
   ],
   "source": [
    "my_list[1] = 99  # Changing an element\n",
    "print(my_list)  # Output: [10, 99, 30, 'Python', 3.14]"
   ]
  },
  {
   "cell_type": "markdown",
   "metadata": {},
   "source": [
    "List Operations:"
   ]
  },
  {
   "cell_type": "code",
   "execution_count": 110,
   "metadata": {},
   "outputs": [
    {
     "name": "stdout",
     "output_type": "stream",
     "text": [
      "[10, 99, 30, 'Python', 3.14, 50]\n",
      "[10, 99, 'Python', 3.14, 50]\n",
      "[99, 'Python', 3.14]\n",
      "5\n"
     ]
    }
   ],
   "source": [
    "# Adding elements\n",
    "my_list.append(50)  # Adds to the end\n",
    "print(my_list)  # Output: [10, 99, 30, 'Python', 3.14, 50]\n",
    "\n",
    "# Removing elements\n",
    "my_list.remove(30)  # Removes 30 from list\n",
    "print(my_list)  # Output: [10, 99, 'Python', 3.14, 50]\n",
    "\n",
    "# Slicing\n",
    "print(my_list[1:4])  # Output: [99, 'Python', 3.14]\n",
    "\n",
    "# Checking length\n",
    "print(len(my_list))  # Output: 5"
   ]
  },
  {
   "cell_type": "markdown",
   "metadata": {},
   "source": [
    "2. Tuple (tuple)\n",
    "\n",
    "A tuple is an immutable (unchangeable) ordered collection of elements. Like lists, tuples can contain elements of different data types."
   ]
  },
  {
   "cell_type": "markdown",
   "metadata": {},
   "source": [
    "Characteristics of Tuples:\n",
    "\n",
    "Ordered (elements maintain insertion order).\n",
    "\n",
    "Immutable (cannot be changed after creation).\n",
    "\n",
    "Supports duplicate elements.\n",
    "\n",
    "More memory-efficient than lists."
   ]
  },
  {
   "cell_type": "markdown",
   "metadata": {},
   "source": [
    "Creating a Tuple:"
   ]
  },
  {
   "cell_type": "code",
   "execution_count": 111,
   "metadata": {},
   "outputs": [
    {
     "name": "stdout",
     "output_type": "stream",
     "text": [
      "(10, 20, 30, 'Python', 3.14)\n",
      "<class 'tuple'>\n"
     ]
    }
   ],
   "source": [
    "# Creating a tuple\n",
    "my_tuple = (10, 20, 30, \"Python\", 3.14)\n",
    "print(my_tuple)  # Output: (10, 20, 30, 'Python', 3.14)\n",
    "print(type(my_tuple))  # Output: <class 'tuple'>"
   ]
  },
  {
   "cell_type": "markdown",
   "metadata": {},
   "source": [
    "Accessing Elements in a Tuple:"
   ]
  },
  {
   "cell_type": "code",
   "execution_count": 112,
   "metadata": {},
   "outputs": [
    {
     "name": "stdout",
     "output_type": "stream",
     "text": [
      "10\n",
      "3.14\n"
     ]
    }
   ],
   "source": [
    "print(my_tuple[0])  # Output: 10\n",
    "print(my_tuple[-1])  # Output: 3.14"
   ]
  },
  {
   "cell_type": "markdown",
   "metadata": {},
   "source": [
    "Tuple Immutability:"
   ]
  },
  {
   "cell_type": "code",
   "execution_count": 113,
   "metadata": {},
   "outputs": [],
   "source": [
    "# my_tuple[1] = 99  # This will raise an error: TypeError: 'tuple' object does not support item assignment"
   ]
  },
  {
   "cell_type": "markdown",
   "metadata": {},
   "source": [
    "Tuple Operations:"
   ]
  },
  {
   "cell_type": "code",
   "execution_count": 114,
   "metadata": {},
   "outputs": [
    {
     "name": "stdout",
     "output_type": "stream",
     "text": [
      "(10, 20, 30, 'Python', 3.14, 100, 200)\n",
      "(20, 30, 'Python')\n",
      "5\n"
     ]
    }
   ],
   "source": [
    "# Tuple concatenation\n",
    "new_tuple = my_tuple + (100, 200)\n",
    "print(new_tuple)  # Output: (10, 20, 30, 'Python', 3.14, 100, 200)\n",
    "\n",
    "# Slicing\n",
    "print(my_tuple[1:4])  # Output: (20, 30, 'Python')\n",
    "\n",
    "# Length of tuple\n",
    "print(len(my_tuple))  # Output: 5\n"
   ]
  },
  {
   "cell_type": "markdown",
   "metadata": {},
   "source": [
    "Tuple with a Single Element:"
   ]
  },
  {
   "cell_type": "code",
   "execution_count": 115,
   "metadata": {},
   "outputs": [
    {
     "name": "stdout",
     "output_type": "stream",
     "text": [
      "<class 'tuple'>\n"
     ]
    }
   ],
   "source": [
    "single_element_tuple = (10,)  # Note the comma! Otherwise, it is treated as an integer.\n",
    "print(type(single_element_tuple))  # Output: <class 'tuple'>"
   ]
  },
  {
   "cell_type": "markdown",
   "metadata": {},
   "source": [
    "3. Range (range)\n",
    "\n",
    "The range type represents an immutable sequence of numbers, commonly used for loops."
   ]
  },
  {
   "cell_type": "markdown",
   "metadata": {},
   "source": [
    "Characteristics of Ranges:\n",
    "\n",
    "Immutable (cannot be changed after creation).\n",
    "\n",
    "Efficient memory usage as numbers are generated on demand.\n",
    "\n",
    "Supports start, stop, and step."
   ]
  },
  {
   "cell_type": "markdown",
   "metadata": {},
   "source": [
    "Creating a Range:"
   ]
  },
  {
   "cell_type": "code",
   "execution_count": 116,
   "metadata": {},
   "outputs": [
    {
     "name": "stdout",
     "output_type": "stream",
     "text": [
      "[0, 1, 2, 3, 4]\n",
      "[2, 3, 4, 5, 6, 7, 8, 9]\n",
      "[1, 3, 5, 7, 9]\n"
     ]
    }
   ],
   "source": [
    "# Range from 0 to 4\n",
    "r = range(5)\n",
    "print(list(r))  # Output: [0, 1, 2, 3, 4]\n",
    "\n",
    "# Range with a start and stop\n",
    "r2 = range(2, 10)\n",
    "print(list(r2))  # Output: [2, 3, 4, 5, 6, 7, 8, 9]\n",
    "\n",
    "# Range with step\n",
    "r3 = range(1, 10, 2)  # Step of 2\n",
    "print(list(r3))  # Output: [1, 3, 5, 7, 9]"
   ]
  },
  {
   "cell_type": "markdown",
   "metadata": {},
   "source": [
    "4. String (str)\n",
    "\n",
    "A string is an immutable sequence of characters. Strings are enclosed in single ('), double (\") or triple (''' or \"\"\") quotes."
   ]
  },
  {
   "cell_type": "markdown",
   "metadata": {},
   "source": [
    "Characteristics of Strings:\n",
    "\n",
    "Immutable (cannot be changed after creation).\n",
    "\n",
    "Supports indexing and slicing.\n",
    "\n",
    "Supports string operations like concatenation, repetition, and formatting."
   ]
  },
  {
   "cell_type": "markdown",
   "metadata": {},
   "source": [
    "Creating a String:"
   ]
  },
  {
   "cell_type": "code",
   "execution_count": 117,
   "metadata": {},
   "outputs": [
    {
     "name": "stdout",
     "output_type": "stream",
     "text": [
      "Hello, Python!\n",
      "<class 'str'>\n"
     ]
    }
   ],
   "source": [
    "my_string = \"Hello, Python!\"\n",
    "print(my_string)  # Output: Hello, Python!\n",
    "print(type(my_string))  # Output: <class 'str'>"
   ]
  },
  {
   "cell_type": "markdown",
   "metadata": {},
   "source": [
    "Accessing Characters in a String:"
   ]
  },
  {
   "cell_type": "code",
   "execution_count": 118,
   "metadata": {},
   "outputs": [
    {
     "name": "stdout",
     "output_type": "stream",
     "text": [
      "H\n",
      "!\n"
     ]
    }
   ],
   "source": [
    "print(my_string[0])  # Output: 'H'\n",
    "print(my_string[-1])  # Output: '!'"
   ]
  },
  {
   "cell_type": "markdown",
   "metadata": {},
   "source": [
    "String Slicing:"
   ]
  },
  {
   "cell_type": "code",
   "execution_count": 119,
   "metadata": {},
   "outputs": [
    {
     "name": "stdout",
     "output_type": "stream",
     "text": [
      "Hello\n",
      "Hello\n",
      "Python!\n"
     ]
    }
   ],
   "source": [
    "print(my_string[0:5])  # Output: 'Hello'\n",
    "print(my_string[:5])   # Output: 'Hello'\n",
    "print(my_string[7:])   # Output: 'Python!'"
   ]
  },
  {
   "cell_type": "markdown",
   "metadata": {},
   "source": [
    "String Operations:"
   ]
  },
  {
   "cell_type": "code",
   "execution_count": 120,
   "metadata": {},
   "outputs": [
    {
     "name": "stdout",
     "output_type": "stream",
     "text": [
      "Hello World\n",
      "HelloHelloHello\n",
      "5\n",
      "hello\n",
      "HELLO\n",
      "Hello World\n",
      "Hello Python\n"
     ]
    }
   ],
   "source": [
    "# Concatenation\n",
    "str1 = \"Hello\"\n",
    "str2 = \"World\"\n",
    "print(str1 + \" \" + str2)  # Output: 'Hello World'\n",
    "\n",
    "# Repetition\n",
    "print(str1 * 3)  # Output: 'HelloHelloHello'\n",
    "\n",
    "# Length of string\n",
    "print(len(str1))  # Output: 14\n",
    "\n",
    "# String methods\n",
    "print(str1.lower())  # Output: 'hello, python!'\n",
    "print(str1.upper())  # Output: 'HELLO, PYTHON!'\n",
    "str3=str1 + \" \" + str2\n",
    "print(str3)\n",
    "print(str3.replace(\"World\",\"Python\" ))  # Output: 'Hello, World!'"
   ]
  },
  {
   "cell_type": "markdown",
   "metadata": {},
   "source": [
    "\n",
    "Comparison of Sequence Data Types:\n",
    "\n",
    "Data Type\t   Mutability\tOrdered\t  Allows Duplicate Elements\t        Example\n",
    "\n",
    "List (list)\t    Mutable\t    Yes\t                Yes\t                [10, 20, \"Python\"]\n",
    "\n",
    "Tuple (tuple)\tImmutable\tYes\t                Yes\t                (10, 20, \"Python\")\n",
    "\n",
    "Range (range)\tImmutable\tYes\t                No\t                range(5)\n",
    "\n",
    "String (str)\tImmutable\tYes\t                Yes\t                \"Hello, Python!\"\n"
   ]
  },
  {
   "cell_type": "markdown",
   "metadata": {},
   "source": [
    "3. Python Built-in Mapping Data Type: \n",
    "\n",
    "   Dictionary (dict)"
   ]
  },
  {
   "cell_type": "markdown",
   "metadata": {},
   "source": [
    "A dictionary (dict) is a built-in mapping data type in Python that stores key-value pairs. It is one of the most powerful and commonly used data structures in Python. Unlike sequences (lists, tuples, strings), which store values indexed by position, dictionaries store values indexed by keys."
   ]
  },
  {
   "cell_type": "markdown",
   "metadata": {},
   "source": [
    " Characteristics of a Dictionary:\n",
    "\n",
    "Unordered (before Python 3.7) → Since Python 3.7, dictionaries maintain insertion order.\n",
    "\n",
    "Mutable → Can be modified (add, remove, update key-value pairs).\n",
    "\n",
    "Keys must be unique → Duplicate keys are not allowed.\n",
    "\n",
    "Keys must be immutable → Can be int, float, str, tuple (but not list or another dict).\n",
    "\n",
    "Values can be of any data type → Lists, Tuples, Sets, or even another Dictionary.\n"
   ]
  },
  {
   "cell_type": "markdown",
   "metadata": {},
   "source": [
    "Creating a Dictionary:\n",
    "\n",
    "Dictionaries can be created using:\n",
    "\n",
    "    i)  Curly braces {}\n",
    "\n",
    "    ii) The dict() constructor\n",
    "\n",
    "Example 1: Creating a Dictionary"
   ]
  },
  {
   "cell_type": "code",
   "execution_count": 121,
   "metadata": {},
   "outputs": [
    {
     "name": "stdout",
     "output_type": "stream",
     "text": [
      "{'name': 'Alice', 'age': 25, 'city': 'New York'}\n",
      "{'name': 'Bob', 'age': 30, 'city': 'London'}\n"
     ]
    }
   ],
   "source": [
    "# Using curly braces\n",
    "my_dict = {\n",
    "    \"name\": \"Alice\",\n",
    "    \"age\": 25,\n",
    "    \"city\": \"New York\"\n",
    "}\n",
    "print(my_dict)\n",
    "# Output: {'name': 'Alice', 'age': 25, 'city': 'New York'}\n",
    "\n",
    "# Using dict() constructor\n",
    "my_dict2 = dict(name=\"Bob\", age=30, city=\"London\")\n",
    "print(my_dict2)\n",
    "# Output: {'name': 'Bob', 'age': 30, 'city': 'London'}"
   ]
  },
  {
   "cell_type": "markdown",
   "metadata": {},
   "source": [
    "Example 2: Dictionary with Different Data Types"
   ]
  },
  {
   "cell_type": "code",
   "execution_count": 122,
   "metadata": {},
   "outputs": [
    {
     "name": "stdout",
     "output_type": "stream",
     "text": [
      "{'name': 'John', 'age': 28, 'hobbies': ['reading', 'gaming', 'coding'], 'address': {'city': 'Los Angeles', 'zip': 90001}, 100: 'Numeric Key', (1, 2): 'Tuple as Key'}\n"
     ]
    }
   ],
   "source": [
    "person = {\n",
    "    \"name\": \"John\",\n",
    "    \"age\": 28,\n",
    "    \"hobbies\": [\"reading\", \"gaming\", \"coding\"],  # List inside dictionary\n",
    "    \"address\": {\"city\": \"Los Angeles\", \"zip\": 90001},  # Nested dictionary\n",
    "    100: \"Numeric Key\",\n",
    "    (1, 2): \"Tuple as Key\"  # Tuples are immutable, so they can be keys\n",
    "}\n",
    "print(person)"
   ]
  },
  {
   "cell_type": "markdown",
   "metadata": {},
   "source": [
    "3. Accessing Dictionary Elements\n",
    "\n",
    "You can access values using keys (not indices like lists).\n",
    "\n",
    "\n",
    "Using Square Brackets []"
   ]
  },
  {
   "cell_type": "code",
   "execution_count": 123,
   "metadata": {},
   "outputs": [
    {
     "name": "stdout",
     "output_type": "stream",
     "text": [
      "John\n",
      "['reading', 'gaming', 'coding']\n"
     ]
    }
   ],
   "source": [
    "print(person[\"name\"])  # Output: John\n",
    "print(person[\"hobbies\"])  # Output: ['reading', 'gaming', 'coding']\n",
    "# print(person.get(\"salary\")) Output: KeyError"
   ]
  },
  {
   "cell_type": "markdown",
   "metadata": {},
   "source": [
    "Using get() Method (Avoids KeyError)"
   ]
  },
  {
   "cell_type": "code",
   "execution_count": 124,
   "metadata": {},
   "outputs": [
    {
     "name": "stdout",
     "output_type": "stream",
     "text": [
      "28\n",
      "None\n",
      "Not Found\n"
     ]
    }
   ],
   "source": [
    "print(person.get(\"age\"))  # Output: 28\n",
    "print(person.get(\"salary\"))  # Output: None (instead of error)\n",
    "print(person.get(\"salary\", \"Not Found\"))  # Output: Not Found (default value)"
   ]
  },
  {
   "cell_type": "markdown",
   "metadata": {},
   "source": [
    "Modifying a Dictionary:\n",
    "\n",
    "Dictionaries are mutable, so you can update, add, or remove elements.\n",
    "\n",
    "\n",
    "Updating an Existing Key"
   ]
  },
  {
   "cell_type": "code",
   "execution_count": 125,
   "metadata": {},
   "outputs": [
    {
     "name": "stdout",
     "output_type": "stream",
     "text": [
      "29\n"
     ]
    }
   ],
   "source": [
    "person[\"age\"] = 29\n",
    "print(person[\"age\"])  # Output: 29"
   ]
  },
  {
   "cell_type": "markdown",
   "metadata": {},
   "source": [
    "Adding a New Key-Value Pair:"
   ]
  },
  {
   "cell_type": "code",
   "execution_count": 126,
   "metadata": {},
   "outputs": [
    {
     "name": "stdout",
     "output_type": "stream",
     "text": [
      "{'name': 'John', 'age': 29, 'hobbies': ['reading', 'gaming', 'coding'], 'address': {'city': 'Los Angeles', 'zip': 90001}, 100: 'Numeric Key', (1, 2): 'Tuple as Key', 'gender': 'Male'}\n"
     ]
    }
   ],
   "source": [
    "person[\"gender\"] = \"Male\"\n",
    "print(person)\n",
    "# Output: {'name': 'John', 'age': 29, 'hobbies': [...], 'address': {...}, 'gender': 'Male'}"
   ]
  },
  {
   "cell_type": "markdown",
   "metadata": {},
   "source": [
    "Removing Elements:"
   ]
  },
  {
   "cell_type": "code",
   "execution_count": 127,
   "metadata": {},
   "outputs": [
    {
     "name": "stdout",
     "output_type": "stream",
     "text": [
      "{'name': 'John', 'hobbies': ['reading', 'gaming', 'coding'], 'address': {'city': 'Los Angeles', 'zip': 90001}, 100: 'Numeric Key', (1, 2): 'Tuple as Key', 'gender': 'Male'}\n",
      "Male\n",
      "{}\n"
     ]
    }
   ],
   "source": [
    "del person[\"age\"]  # Removes the key-value pair\n",
    "print(person)\n",
    "\n",
    "removed_value = person.pop(\"gender\")  # Removes and returns the value\n",
    "print(removed_value)  # Output: Male\n",
    "\n",
    "person.clear()  # Removes all items from the dictionary\n",
    "print(person)  # Output: {}"
   ]
  },
  {
   "cell_type": "markdown",
   "metadata": {},
   "source": [
    "Dictionary Operations :\n"
   ]
  },
  {
   "cell_type": "markdown",
   "metadata": {},
   "source": [
    "\n",
    "Checking if a Key Exists:"
   ]
  },
  {
   "cell_type": "code",
   "execution_count": 128,
   "metadata": {},
   "outputs": [
    {
     "name": "stdout",
     "output_type": "stream",
     "text": [
      "False\n",
      "False\n"
     ]
    }
   ],
   "source": [
    "print(\"name\" in person)  # Output: True\n",
    "print(\"salary\" in person)  # Output: False"
   ]
  },
  {
   "cell_type": "markdown",
   "metadata": {},
   "source": [
    "Dictionary Length (len())"
   ]
  },
  {
   "cell_type": "code",
   "execution_count": 129,
   "metadata": {},
   "outputs": [
    {
     "name": "stdout",
     "output_type": "stream",
     "text": [
      "3\n"
     ]
    }
   ],
   "source": [
    "print(len(my_dict))  # Output: 3 (number of key-value pairs)"
   ]
  },
  {
   "cell_type": "markdown",
   "metadata": {},
   "source": [
    "Iterating Through a Dictionary:"
   ]
  },
  {
   "cell_type": "markdown",
   "metadata": {},
   "source": [
    "Using a for loop"
   ]
  },
  {
   "cell_type": "code",
   "execution_count": 130,
   "metadata": {},
   "outputs": [
    {
     "name": "stdout",
     "output_type": "stream",
     "text": [
      "name : Alice\n",
      "age : 25\n",
      "city : New York\n"
     ]
    }
   ],
   "source": [
    "for key in my_dict:\n",
    "    print(key, \":\", my_dict[key])"
   ]
  },
  {
   "cell_type": "markdown",
   "metadata": {},
   "source": [
    "Using items() Method"
   ]
  },
  {
   "cell_type": "code",
   "execution_count": 131,
   "metadata": {},
   "outputs": [
    {
     "name": "stdout",
     "output_type": "stream",
     "text": [
      "name -> Alice\n",
      "age -> 25\n",
      "city -> New York\n"
     ]
    }
   ],
   "source": [
    "for key, value in my_dict.items():\n",
    "    print(key, \"->\", value)"
   ]
  },
  {
   "cell_type": "markdown",
   "metadata": {},
   "source": [
    "Using keys() and values() Methods"
   ]
  },
  {
   "cell_type": "code",
   "execution_count": 132,
   "metadata": {},
   "outputs": [
    {
     "name": "stdout",
     "output_type": "stream",
     "text": [
      "dict_keys(['name', 'age', 'city'])\n",
      "dict_values(['Alice', 25, 'New York'])\n"
     ]
    }
   ],
   "source": [
    "print(my_dict.keys())  # Output: dict_keys(['name', 'age', 'city'])\n",
    "print(my_dict.values())  # Output: dict_values(['Alice', 25, 'New York'])"
   ]
  },
  {
   "cell_type": "markdown",
   "metadata": {},
   "source": [
    "Dictionary Methods :"
   ]
  },
  {
   "cell_type": "markdown",
   "metadata": {},
   "source": [
    "get(key, default)\t    Returns the value for a key; returns default if key is missing      \td.get(\"age\", 30)\n",
    "\n",
    "keys()\tReturns all dictionary keys\td.keys()\n",
    "\n",
    "values()\tReturns all dictionary values\td.values()\n",
    "\n",
    "items()\tReturns all key-value pairs as tuples\td.items()\n",
    "\n",
    "update(dict2)\tMerges dict2 into dict\td.update({\"city\": \"Paris\"})\n",
    "\n",
    "pop(key)\tRemoves and returns value of the given key\td.pop(\"age\")\n",
    "\n",
    "del d[key]\tDeletes key-value pair\tdel d[\"name\"]\n",
    "\n",
    "clear()\tRemoves all elements\td.clear()"
   ]
  },
  {
   "cell_type": "markdown",
   "metadata": {},
   "source": [
    "Nested Dictionary:\n",
    "\n",
    "A dictionary can contain another dictionary as a value."
   ]
  },
  {
   "cell_type": "code",
   "execution_count": 133,
   "metadata": {},
   "outputs": [
    {
     "name": "stdout",
     "output_type": "stream",
     "text": [
      "90\n",
      "Chicago\n"
     ]
    }
   ],
   "source": [
    "student = {\n",
    "    \"name\": \"Emily\",\n",
    "    \"grades\": {\"math\": 90, \"science\": 85, \"history\": 88},\n",
    "    \"address\": {\"city\": \"Chicago\", \"zip\": \"60601\"}\n",
    "}\n",
    "print(student[\"grades\"][\"math\"])  # Output: 90\n",
    "print(student[\"address\"][\"city\"])  # Output: Chicago"
   ]
  },
  {
   "cell_type": "markdown",
   "metadata": {},
   "source": [
    "Dictionary Comprehension :\n",
    "\n",
    "Just like list comprehensions, Python supports dictionary comprehensions."
   ]
  },
  {
   "cell_type": "code",
   "execution_count": 134,
   "metadata": {},
   "outputs": [
    {
     "name": "stdout",
     "output_type": "stream",
     "text": [
      "{1: 1, 2: 4, 3: 9, 4: 16, 5: 25}\n"
     ]
    }
   ],
   "source": [
    "squares = {x: x**2 for x in range(1, 6)}\n",
    "print(squares)"
   ]
  },
  {
   "cell_type": "markdown",
   "metadata": {},
   "source": [
    "\n",
    "When to Use a Dictionary?\n",
    "\n",
    "✅ Use a list when you need an ordered collection and access by index.\n",
    "\n",
    "✅ Use a dictionary when you need key-value mapping and fast lookups.\n",
    "\n",
    "✅ Use a nested dictionary when dealing with structured data."
   ]
  },
  {
   "cell_type": "markdown",
   "metadata": {},
   "source": []
  },
  {
   "cell_type": "markdown",
   "metadata": {},
   "source": [
    "4. Python Built-in Set Data Type (set)\n",
    "\n",
    "\n",
    "A set in Python is an unordered collection of unique elements. It is similar to mathematical sets and provides efficient\n",
    " operations for set-related tasks like union, intersection, and difference.\n",
    "\n",
    "Characteristics of Sets:\n",
    "\n",
    "Unordered → The elements do not follow a specific order.\n",
    "\n",
    "Unique elements → Duplicates are automatically removed.\n",
    "\n",
    "Mutable → You can add or remove elements.\n",
    "\n",
    "Supports mathematical operations like union, intersection, difference.\n",
    "\n",
    "Elements must be immutable → Can include int, float, str, tuple, but not list or dict.\n"
   ]
  },
  {
   "cell_type": "markdown",
   "metadata": {},
   "source": []
  },
  {
   "cell_type": "markdown",
   "metadata": {},
   "source": [
    "Creating a Set:\n",
    "\n",
    "Sets can be created using:\n",
    "\n",
    "    i)  Curly braces {}\n",
    "    ii) The set() constructor"
   ]
  },
  {
   "cell_type": "code",
   "execution_count": 135,
   "metadata": {},
   "outputs": [
    {
     "name": "stdout",
     "output_type": "stream",
     "text": [
      "{40, 10, 20, 30}\n",
      "{1, 2, 3, 4, 5}\n"
     ]
    }
   ],
   "source": [
    "# Using curly braces\n",
    "my_set = {10, 20, 30, 40}\n",
    "print(my_set)  \n",
    "# Output: {40, 10, 20, 30}  (Order may vary)\n",
    "\n",
    "# Using set() function\n",
    "my_set2 = set([1, 2, 3, 4, 5])  \n",
    "print(my_set2)  \n",
    "# Output: {1, 2, 3, 4, 5}"
   ]
  },
  {
   "cell_type": "markdown",
   "metadata": {},
   "source": [
    "Removing Duplicates Automatically:"
   ]
  },
  {
   "cell_type": "code",
   "execution_count": 136,
   "metadata": {},
   "outputs": [
    {
     "name": "stdout",
     "output_type": "stream",
     "text": [
      "{40, 10, 20, 30}\n"
     ]
    }
   ],
   "source": [
    "duplicate_set = {10, 20, 20, 30, 30, 40}\n",
    "print(duplicate_set)  \n",
    "# Output: {40, 10, 20, 30}  (Duplicates removed)"
   ]
  },
  {
   "cell_type": "markdown",
   "metadata": {},
   "source": [
    "Creating an Empty Set:"
   ]
  },
  {
   "cell_type": "code",
   "execution_count": 137,
   "metadata": {},
   "outputs": [
    {
     "name": "stdout",
     "output_type": "stream",
     "text": [
      "<class 'set'>\n",
      "<class 'dict'>\n"
     ]
    }
   ],
   "source": [
    "empty_set = set()  # ✅ Correct way\n",
    "print(type(empty_set))  # Output: <class 'set'>\n",
    "\n",
    "empty_dict = {}  # ❌ This creates an empty dictionary, not a set\n",
    "print(type(empty_dict))  # Output: <class 'dict'>"
   ]
  },
  {
   "cell_type": "markdown",
   "metadata": {},
   "source": [
    "Accessing Set Elements:\n",
    "\n",
    "Sets do not support indexing or slicing because they are unordered."
   ]
  },
  {
   "cell_type": "code",
   "execution_count": 138,
   "metadata": {},
   "outputs": [
    {
     "ename": "TypeError",
     "evalue": "'set' object is not subscriptable",
     "output_type": "error",
     "traceback": [
      "\u001b[1;31m---------------------------------------------------------------------------\u001b[0m",
      "\u001b[1;31mTypeError\u001b[0m                                 Traceback (most recent call last)",
      "Cell \u001b[1;32mIn[138], line 2\u001b[0m\n\u001b[0;32m      1\u001b[0m my_set \u001b[38;5;241m=\u001b[39m {\u001b[38;5;241m10\u001b[39m, \u001b[38;5;241m20\u001b[39m, \u001b[38;5;241m30\u001b[39m}\n\u001b[1;32m----> 2\u001b[0m \u001b[38;5;28mprint\u001b[39m(my_set[\u001b[38;5;241m0\u001b[39m])\n",
      "\u001b[1;31mTypeError\u001b[0m: 'set' object is not subscriptable"
     ]
    }
   ],
   "source": [
    "my_set = {10, 20, 30}\n",
    "print(my_set[0]) # ❌ This will raise a TypeError"
   ]
  },
  {
   "cell_type": "markdown",
   "metadata": {},
   "source": [
    "Instead, you can iterate through a set using a for loop:"
   ]
  },
  {
   "cell_type": "code",
   "execution_count": null,
   "metadata": {},
   "outputs": [
    {
     "name": "stdout",
     "output_type": "stream",
     "text": [
      "10\n",
      "20\n",
      "30\n"
     ]
    }
   ],
   "source": [
    "for num in my_set:\n",
    "    print(num)"
   ]
  },
  {
   "cell_type": "markdown",
   "metadata": {},
   "source": [
    "Modifying a Set:"
   ]
  },
  {
   "cell_type": "markdown",
   "metadata": {},
   "source": [
    "Adding Elements (add())\n"
   ]
  },
  {
   "cell_type": "code",
   "execution_count": null,
   "metadata": {},
   "outputs": [],
   "source": [
    "my_set.add(50)\n",
    "print(my_set)  \n",
    "# Output: {50, 10, 20, 30} (Order may vary)"
   ]
  },
  {
   "cell_type": "markdown",
   "metadata": {},
   "source": [
    "Adding Multiple Elements (update())"
   ]
  },
  {
   "cell_type": "code",
   "execution_count": null,
   "metadata": {},
   "outputs": [],
   "source": [
    "my_set.update([60, 70, 80])\n",
    "print(my_set)  "
   ]
  },
  {
   "cell_type": "markdown",
   "metadata": {},
   "source": [
    "Removing Elements:"
   ]
  },
  {
   "cell_type": "code",
   "execution_count": null,
   "metadata": {},
   "outputs": [],
   "source": [
    "my_set.remove(30)  # Removes 30; raises an error if the element is not found\n",
    "print(my_set)\n",
    "\n",
    "my_set.discard(100)  # Does nothing if 100 is not found (no error)\n",
    "print(my_set)\n",
    "\n",
    "popped_value = my_set.pop()  # Removes a random element\n",
    "print(popped_value)\n",
    "\n",
    "my_set.clear()  # Removes all elements\n",
    "print(my_set)  # Output: set()"
   ]
  },
  {
   "cell_type": "markdown",
   "metadata": {},
   "source": [
    "Set Operations:\n",
    "\n",
    "Python sets support powerful mathematical operations."
   ]
  },
  {
   "cell_type": "markdown",
   "metadata": {},
   "source": [
    "Union (| or union())\n",
    "\n",
    "Returns all unique elements from both sets."
   ]
  },
  {
   "cell_type": "code",
   "execution_count": null,
   "metadata": {},
   "outputs": [
    {
     "name": "stdout",
     "output_type": "stream",
     "text": [
      "{1, 2, 3, 4, 5, 6}\n",
      "{1, 2, 3, 4, 5, 6}\n"
     ]
    }
   ],
   "source": [
    "A = {1, 2, 3, 4}\n",
    "B = {3, 4, 5, 6}\n",
    "\n",
    "print(A | B)  # Output: {1, 2, 3, 4, 5, 6}\n",
    "print(A.union(B))  # Output: {1, 2, 3, 4, 5, 6}"
   ]
  },
  {
   "cell_type": "markdown",
   "metadata": {},
   "source": [
    "Intersection (& or intersection()):\n",
    "\n",
    "Returns common elements."
   ]
  },
  {
   "cell_type": "code",
   "execution_count": null,
   "metadata": {},
   "outputs": [
    {
     "name": "stdout",
     "output_type": "stream",
     "text": [
      "{3, 4}\n",
      "{3, 4}\n"
     ]
    }
   ],
   "source": [
    "print(A & B)  # Output: {3, 4}\n",
    "print(A.intersection(B))  # Output: {3, 4}"
   ]
  },
  {
   "cell_type": "markdown",
   "metadata": {},
   "source": [
    "Difference (- or difference()):\n",
    "\n",
    "Returns elements in A that are not in B."
   ]
  },
  {
   "cell_type": "code",
   "execution_count": null,
   "metadata": {},
   "outputs": [
    {
     "name": "stdout",
     "output_type": "stream",
     "text": [
      "{1, 2}\n",
      "{1, 2}\n"
     ]
    }
   ],
   "source": [
    "print(A - B)  # Output: {1, 2}\n",
    "print(A.difference(B))  # Output: {1, 2}"
   ]
  },
  {
   "cell_type": "markdown",
   "metadata": {},
   "source": [
    "Symmetric Difference (^ or symmetric_difference()):\n",
    "\n",
    "Returns elements that are in either set but not both."
   ]
  },
  {
   "cell_type": "code",
   "execution_count": null,
   "metadata": {},
   "outputs": [
    {
     "name": "stdout",
     "output_type": "stream",
     "text": [
      "{1, 2, 5, 6}\n",
      "{1, 2, 5, 6}\n"
     ]
    }
   ],
   "source": [
    "print(A ^ B)  # Output: {1, 2, 5, 6}\n",
    "print(A.symmetric_difference(B))  # Output: {1, 2, 5, 6}"
   ]
  },
  {
   "cell_type": "markdown",
   "metadata": {},
   "source": [
    "Checking Subsets and Supersets:\n"
   ]
  },
  {
   "cell_type": "code",
   "execution_count": null,
   "metadata": {},
   "outputs": [],
   "source": [
    "X = {1, 2, 3}\n",
    "Y = {1, 2, 3, 4, 5}\n",
    "\n",
    "print(X.issubset(Y))  # Output: True (X is inside Y)\n",
    "print(Y.issuperset(X))  # Output: True (Y contains all elements of X)"
   ]
  },
  {
   "cell_type": "markdown",
   "metadata": {},
   "source": [
    "Checking Membership:"
   ]
  },
  {
   "cell_type": "code",
   "execution_count": null,
   "metadata": {},
   "outputs": [],
   "source": [
    "my_set = {10, 20, 30}\n",
    "print(10 in my_set)  # Output: True\n",
    "print(40 in my_set)  # Output: False"
   ]
  },
  {
   "cell_type": "markdown",
   "metadata": {},
   "source": [
    "Frozen Set (frozenset):\n",
    "\n",
    "A frozenset is an immutable version of a set."
   ]
  },
  {
   "cell_type": "code",
   "execution_count": null,
   "metadata": {},
   "outputs": [],
   "source": [
    "fs = frozenset([1, 2, 3, 4])\n",
    "print(fs)\n",
    "\n",
    "# fs.add(5)  ❌ This will raise an AttributeError"
   ]
  },
  {
   "cell_type": "markdown",
   "metadata": {},
   "source": [
    "Mutable and Immutable Data Types:\n",
    "\n",
    "Mutable: Can be changed after creation.\n",
    "\n",
    "Immutable: Cannot be changed after creation.\n",
    "\n",
    "\n",
    "Examples:\n",
    "python\n",
    "Copy\n",
    "Edit\n",
    "# Immutable (String)\n",
    "s = \"hello\"\n",
    "s[0] = \"H\"  # This will cause an error!\n",
    "\n",
    "# Mutable (List)\n",
    "lst = [1, 2, 3]\n",
    "lst[0] = 100  \n",
    "print(lst)  # Output: [100, 2, 3]"
   ]
  },
  {
   "cell_type": "markdown",
   "metadata": {},
   "source": [
    "Data Type\t                    Mutable / Immutable\n",
    "\n",
    "\n",
    "int, float, complex\t                Immutable\n",
    "\n",
    "str\t                                Immutable\n",
    "\n",
    "tuple\t                            Immutable\n",
    "\n",
    "list\t                            Mutable\n",
    "\n",
    "set\t                                Mutable\n",
    "\n",
    "dict\t                            Mutable"
   ]
  },
  {
   "cell_type": "markdown",
   "metadata": {},
   "source": []
  },
  {
   "cell_type": "markdown",
   "metadata": {},
   "source": [
    "Python type() function :\n",
    "\n",
    "The type() function in Python is used to determine the type of an object. It can also be used to create new classes dynamically."
   ]
  },
  {
   "cell_type": "markdown",
   "metadata": {},
   "source": [
    "Syntax:\n",
    "\n",
    "type(object)\n",
    "\n",
    "or\n",
    "\n",
    "type(name, bases, dict)"
   ]
  },
  {
   "cell_type": "markdown",
   "metadata": {},
   "source": [
    "Checking the Type of an Object:\n",
    "\n",
    "\n",
    "When used with a single argument, type() returns the type of the given object.\n",
    "\n",
    "\n",
    "Example:"
   ]
  },
  {
   "cell_type": "code",
   "execution_count": null,
   "metadata": {},
   "outputs": [],
   "source": [
    "print(type(10))        # Output: <class 'int'>\n",
    "print(type(10.5))      # Output: <class 'float'>\n",
    "print(type(\"Hello\"))   # Output: <class 'str'>\n",
    "print(type([1, 2, 3])) # Output: <class 'list'>\n",
    "print(type((1, 2, 3))) # Output: <class 'tuple'>\n",
    "print(type({1, 2, 3})) # Output: <class 'set'>\n",
    "print(type({'a': 1}))  # Output: <class 'dict'>"
   ]
  },
  {
   "cell_type": "markdown",
   "metadata": {},
   "source": [
    "Creating Classes Dynamically:\n",
    "\n",
    "When used with three arguments, type(name, bases, dict), type() creates a new class.\n",
    "\n",
    "type(class_name, base_classes, attributes)\n",
    "\n",
    "    i)      class_name: Name of the class (string)\n",
    "\n",
    "    ii)     base_classes: Tuple containing base classes (for inheritance)\n",
    "\n",
    "    iii)    attributes: Dictionary containing attributes and methods\n",
    "\n",
    "\n",
    "Example:"
   ]
  },
  {
   "cell_type": "code",
   "execution_count": null,
   "metadata": {},
   "outputs": [
    {
     "name": "stdout",
     "output_type": "stream",
     "text": [
      "10\n",
      "<class 'type'>\n",
      "<class '__main__.MyClass'>\n"
     ]
    }
   ],
   "source": [
    "# Creating a class dynamically\n",
    "MyClass = type(\"MyClass\", (object,), {\"x\": 10, \"show\": lambda self: print(self.x)})\n",
    "\n",
    "# Creating an instance of the dynamically created class\n",
    "obj = MyClass()\n",
    "obj.show()  # Output: 10\n",
    "\n",
    "print(type(MyClass))  # Output: <class 'type'>\n",
    "print(type(obj))      # Output: <class '__main__.MyClass'>"
   ]
  },
  {
   "cell_type": "markdown",
   "metadata": {},
   "source": []
  },
  {
   "cell_type": "markdown",
   "metadata": {},
   "source": [
    "Python Type Casting (Type Conversion):\n",
    "\n",
    "Type casting (or type conversion) in Python refers to converting one type of data into another. Python provides two types of type conversion:\n",
    "\n",
    "    i)  Implicit Type Conversion – Done automatically by Python.\n",
    "    \n",
    "    ii) Explicit Type Conversion – Done manually by the programmer using built-in functions."
   ]
  },
  {
   "cell_type": "markdown",
   "metadata": {},
   "source": [
    "1. Implicit Type Conversion (Automatic)\n",
    "\n",
    "Python automatically converts one data type into another when it makes sense.\n",
    "\n",
    "\n",
    "Example:\n"
   ]
  },
  {
   "cell_type": "code",
   "execution_count": null,
   "metadata": {},
   "outputs": [],
   "source": [
    "num_int = 10       # Integer\n",
    "num_float = 2.5    # Float\n",
    "\n",
    "result = num_int + num_float  # Python converts 'num_int' to float\n",
    "\n",
    "print(result)     # Output: 12.5\n",
    "print(type(result))  # Output: <class 'float'>"
   ]
  },
  {
   "cell_type": "markdown",
   "metadata": {},
   "source": [
    "Explicit Type Conversion (Manual):\n",
    "\n",
    "The programmer manually converts data from one type to another using built-in functions.\n",
    "\n",
    "Common Type Casting Functions:\n",
    "\n",
    "Function\tConverts to\n",
    "\n",
    "int(x)\tInteger\n",
    "float(x)\tFloating point\n",
    "str(x)\tString\n",
    "list(x)\tList\n",
    "tuple(x)\tTuple\n",
    "set(x)\tSet\n",
    "dict(x)\tDictionary\n",
    "\n",
    "\n",
    "Examples:"
   ]
  },
  {
   "cell_type": "markdown",
   "metadata": {},
   "source": [
    "a) Converting String to Integer:"
   ]
  },
  {
   "cell_type": "code",
   "execution_count": null,
   "metadata": {},
   "outputs": [],
   "source": [
    "num_str = \"100\"\n",
    "num_int = int(num_str)  # Converts string to integer\n",
    "\n",
    "print(num_int)      # Output: 100\n",
    "print(type(num_int))  # Output: <class 'int'>\n"
   ]
  },
  {
   "cell_type": "markdown",
   "metadata": {},
   "source": [
    "b) Converting Float to Integer"
   ]
  },
  {
   "cell_type": "code",
   "execution_count": null,
   "metadata": {},
   "outputs": [],
   "source": [
    "num_float = 9.99\n",
    "num_int = int(num_float)  # Converts float to integer (removes decimal part)\n",
    "\n",
    "print(num_int)  # Output: 9\n"
   ]
  },
  {
   "cell_type": "markdown",
   "metadata": {},
   "source": [
    "c) Converting Integer to String"
   ]
  },
  {
   "cell_type": "code",
   "execution_count": null,
   "metadata": {},
   "outputs": [],
   "source": [
    "num = 50\n",
    "num_str = str(num)  # Converts integer to string\n",
    "\n",
    "print(num_str)       # Output: \"50\"\n",
    "print(type(num_str))  # Output: <class 'str'>\n"
   ]
  },
  {
   "cell_type": "markdown",
   "metadata": {},
   "source": [
    "d) Converting List to Tuple"
   ]
  },
  {
   "cell_type": "code",
   "execution_count": null,
   "metadata": {},
   "outputs": [],
   "source": [
    "my_list = [1, 2, 3]\n",
    "my_tuple = tuple(my_list)  # Converts list to tuple\n",
    "\n",
    "print(my_tuple)  # Output: (1, 2, 3)\n"
   ]
  },
  {
   "cell_type": "markdown",
   "metadata": {},
   "source": [
    "e) Converting List to Set"
   ]
  },
  {
   "cell_type": "code",
   "execution_count": null,
   "metadata": {},
   "outputs": [],
   "source": [
    "my_list = [1, 2, 2, 3, 4]\n",
    "my_set = set(my_list)  # Removes duplicates\n",
    "\n",
    "print(my_set)  # Output: {1, 2, 3, 4}\n"
   ]
  },
  {
   "cell_type": "markdown",
   "metadata": {},
   "source": [
    "f) Converting List of Tuples to Dictionary"
   ]
  },
  {
   "cell_type": "code",
   "execution_count": null,
   "metadata": {},
   "outputs": [],
   "source": [
    "my_list = [(\"name\", \"Alice\"), (\"age\", 25)]\n",
    "my_dict = dict(my_list)\n",
    "\n",
    "print(my_dict)  # Output: {'name': 'Alice', 'age': 25}\n"
   ]
  },
  {
   "cell_type": "markdown",
   "metadata": {},
   "source": []
  },
  {
   "cell_type": "markdown",
   "metadata": {},
   "source": [
    "Python String Literals – Single and Triple Quoted Strings\n",
    "\n",
    "In Python, string literals are sequences of characters enclosed in quotes. Python provides several ways to define strings using single quotes ('), double quotes (\"), and triple quotes (''' or \"\"\").\n",
    "\n",
    "\n",
    "1. Single-Quoted Strings ('...')\n",
    "\n",
    "Strings can be enclosed in single quotes (').\n",
    "\n",
    "Useful for short, simple strings.\n",
    "\n",
    "If the string contains a single quote (') inside, use an escape character (\\) or switch to double quotes.\n",
    "\n",
    "Example:"
   ]
  },
  {
   "cell_type": "code",
   "execution_count": null,
   "metadata": {},
   "outputs": [],
   "source": [
    "string1 = 'Hello, Python!'\n",
    "print(string1)  # Output: Hello, Python!\n"
   ]
  },
  {
   "cell_type": "markdown",
   "metadata": {},
   "source": [
    "Handling Apostrophes (') in Single-Quoted Strings:"
   ]
  },
  {
   "cell_type": "code",
   "execution_count": null,
   "metadata": {},
   "outputs": [],
   "source": [
    "string2 = 'It\\'s a beautiful day!'  # Using backslash (\\) to escape '\n",
    "print(string2)  # Output: It's a beautiful day!\n"
   ]
  },
  {
   "cell_type": "markdown",
   "metadata": {},
   "source": [
    "or"
   ]
  },
  {
   "cell_type": "code",
   "execution_count": null,
   "metadata": {},
   "outputs": [],
   "source": [
    "string3 = \"It's a beautiful day!\"  # Using double quotes to avoid escaping\n",
    "print(string3)  # Output: It's a beautiful day!\n"
   ]
  },
  {
   "cell_type": "markdown",
   "metadata": {},
   "source": [
    "2. Double-Quoted Strings (\"...\")\n",
    "\n",
    "Work the same way as single-quoted strings.\n",
    "\n",
    "Allow easier handling of single quotes (') inside the string.\n",
    "\n",
    "Example:"
   ]
  },
  {
   "cell_type": "code",
   "execution_count": null,
   "metadata": {},
   "outputs": [],
   "source": [
    "string4 = \"Python is fun!\"\n",
    "print(string4)  # Output: Python is fun!\n"
   ]
  },
  {
   "cell_type": "markdown",
   "metadata": {},
   "source": [
    "Handling Quotes Inside:"
   ]
  },
  {
   "cell_type": "code",
   "execution_count": null,
   "metadata": {},
   "outputs": [],
   "source": [
    "string5 = \"She said, \\\"Python is awesome!\\\"\"\n",
    "print(string5)  # Output: She said, \"Python is awesome!\"\n"
   ]
  },
  {
   "cell_type": "markdown",
   "metadata": {},
   "source": [
    "Or"
   ]
  },
  {
   "cell_type": "code",
   "execution_count": null,
   "metadata": {},
   "outputs": [],
   "source": [
    "string6 = 'She said, \"Python is awesome!\"'  # Using single quotes outside\n",
    "print(string6)  # Output: She said, \"Python is awesome!\"\n"
   ]
  },
  {
   "cell_type": "markdown",
   "metadata": {},
   "source": [
    " Triple-Quoted Strings ('''...''' or \"\"\"...\"\"\")\n",
    "\n",
    "Used for multiline strings.\n",
    "\n",
    "Can contain both single and double quotes without escaping.\n",
    "\n",
    "Often used for docstrings (multi-line comments in Python functions).\n",
    "\n",
    "Example (Multiline String):"
   ]
  },
  {
   "cell_type": "code",
   "execution_count": null,
   "metadata": {},
   "outputs": [],
   "source": [
    "multi_string = '''This is a\n",
    "multiline string\n",
    "in Python.'''\n",
    "print(multi_string)\n"
   ]
  },
  {
   "cell_type": "markdown",
   "metadata": {},
   "source": [
    "Using Triple Quotes to Avoid Escape Characters:"
   ]
  },
  {
   "cell_type": "code",
   "execution_count": null,
   "metadata": {},
   "outputs": [],
   "source": [
    "quote_string = '''She said, \"It's a wonderful day!\"'''\n",
    "print(quote_string)\n"
   ]
  },
  {
   "cell_type": "markdown",
   "metadata": {},
   "source": [
    "Key Differences\n",
    "\n",
    "Type\tExample\tSupports Multi-line?\tRequires Escaping?\n",
    "\n",
    "Single-quoted ('...')\t'Hello'\tNo\tYes, for ' inside\n",
    "\n",
    "Double-quoted (\"...\")\t\"Hello\"\tNo\tYes, for \" inside\n",
    "\n",
    "Triple-quoted ('''...''' or \"\"\"...\"\"\")\t'''Hello'''\tYes\tNo\n"
   ]
  },
  {
   "cell_type": "markdown",
   "metadata": {},
   "source": []
  },
  {
   "cell_type": "markdown",
   "metadata": {},
   "source": [
    "Escape Sequences in Python:\n",
    "\n",
    "An escape sequence in Python is a combination of a backslash (\\) followed by a special character, used to represent characters that are difficult to type directly in a string.\n",
    "\n",
    "\n",
    "Why Use Escape Sequences?\n",
    "\n",
    "To include special characters (like new lines, tabs, quotes) inside strings.\n",
    "\n",
    "To format strings properly.\n",
    "\n",
    "To avoid syntax errors caused by unescaped quotes."
   ]
  },
  {
   "cell_type": "markdown",
   "metadata": {},
   "source": [
    "Escape Sequence\t    Description\t                                  Example\t                    Output\n",
    "\n",
    "\n",
    "\\'\t                Single quote\t                         'It\\'s a sunny day'\t            It's a sunny day\n",
    "\n",
    "\\\"\t                Double quote\t                         \"She said, \\\"Hello!\\\"\"\t        She said, \"Hello!\"\n",
    "\n",
    "\\\\\t                Backslash\t                                'This is a backslash: \\\\ '\t    This is a backslash: \\\n",
    "\n",
    "\\n\t                Newline\t                                    'Hello\\nWorld'\t                    Hello\n",
    "\n",
    "                                                                                                World\n",
    "\n",
    "\\t\t                Tab (horizontal)\t                            'Hello\\tWorld'\t                    Hello World\n",
    "\n",
    "\\r\t                Carriage return (Moves cursor to the beginning)\t'Hello\\rWorld'\t        World (overwrites Hello)\n",
    "\n",
    "\\b\t                Backspace (Removes previous character)\t        'Python\\b3'                     Pytho3\n",
    "\n",
    "\\f\t                Form feed (Moves to next page)\t                print(\"Hello\\fWorld\")\t        Hello(new page)World\n",
    "\n",
    "\\v\t                Vertical tab\t                                'Hello\\vWorld'\t                    Hello\n",
    "                                                                                                (vertical space)World\n",
    "\\ooo\t            Octal value\t                                        '\\101'\t                            A\n",
    "\n",
    "\\xhh\t            Hexadecimal value\t                                 '\\x41'                         \tA"
   ]
  },
  {
   "cell_type": "markdown",
   "metadata": {},
   "source": []
  },
  {
   "cell_type": "markdown",
   "metadata": {},
   "source": []
  }
 ],
 "metadata": {
  "kernelspec": {
   "display_name": "base",
   "language": "python",
   "name": "python3"
  },
  "language_info": {
   "codemirror_mode": {
    "name": "ipython",
    "version": 3
   },
   "file_extension": ".py",
   "mimetype": "text/x-python",
   "name": "python",
   "nbconvert_exporter": "python",
   "pygments_lexer": "ipython3",
   "version": "3.12.7"
  }
 },
 "nbformat": 4,
 "nbformat_minor": 2
}
